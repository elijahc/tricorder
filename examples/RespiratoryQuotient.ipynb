{
 "cells": [
  {
   "cell_type": "code",
   "execution_count": 1,
   "id": "626b810f-8934-49cb-b2d1-04ad6c66a140",
   "metadata": {},
   "outputs": [],
   "source": [
    "import pandas as pd\n",
    "import seaborn as sns\n",
    "import matplotlib.pyplot as plt\n",
    "import numpy as np\n",
    "from src.swan import SWAN\n",
    "from tricorder.procedure_codesets import cabg_names\n",
    "\n",
    "from src.outcome_metrics import Metric, tidy_flow, tidy_labs, OxygenDelivery, pivot_tidy, melt_tidy"
   ]
  },
  {
   "cell_type": "code",
   "execution_count": 2,
   "id": "97dcceb8-8013-4d0b-aa6c-c84c7a36dc3a",
   "metadata": {},
   "outputs": [],
   "source": [
    "swan = SWAN('/Users/elijahc/data/compass/SWAN/')\n",
    "eids = swan.procedures.sel(order_name=cabg_names).encounter_id.unique()"
   ]
  },
  {
   "cell_type": "code",
   "execution_count": 3,
   "id": "d5492267-0fd3-4d5a-87a6-3836544c6e7b",
   "metadata": {},
   "outputs": [],
   "source": [
    "from src.outcome_metrics import compute_o2_content"
   ]
  },
  {
   "cell_type": "code",
   "execution_count": 4,
   "id": "3a4c0dcf-86db-421b-9d59-9274c4c4a916",
   "metadata": {},
   "outputs": [
    {
     "ename": "SyntaxError",
     "evalue": "invalid syntax (4099897597.py, line 27)",
     "output_type": "error",
     "traceback": [
      "\u001b[0;36m  File \u001b[0;32m\"/tmp/ipykernel_31582/4099897597.py\"\u001b[0;36m, line \u001b[0;32m27\u001b[0m\n\u001b[0;31m    def compute(self, sample=None, return_components=False):\u001b[0m\n\u001b[0m    ^\u001b[0m\n\u001b[0;31mSyntaxError\u001b[0m\u001b[0;31m:\u001b[0m invalid syntax\n"
     ]
    }
   ],
   "source": [
    "class RespiratoryQuotient(Metric):\n",
    "    shortname = \"RQ\"\n",
    "    classname = 'RespiratoryQuotient'\n",
    "    REQUIRES = {\n",
    "        'labs' : [\n",
    "            'HEMOGLOBIN','HEMOGLOBIN ARTERIAL','HEMOGLOBIN VENOUS',\n",
    "            'O2SAT ARTERIAL MEASURED','PO2 ARTERIAL',\n",
    "            'TCO2 VENOUS','TCO2 ARTERIAL','PCO2 ARTERIAL','PH ARTERIAL', 'PH VENOUS','PCO2 VENOUS','BASE EXCESS VENOUS','BASE EXCESS ARTERIAL',\n",
    "        ],\n",
    "        # 'flowsheet' : [\n",
    "        #     'CARDIAC OUTPUT','CCO','CCI',\n",
    "        # ]\n",
    "    }\n",
    "    \n",
    "    def __init__(self, db, encounter_id=None):\n",
    "        labs = pd.Series(self.__class__.REQUIRES['labs'])\n",
    "        self.hgb_names = ['HEMOGLOBIN','HEMOGLOBIN ARTERIAL','HEMOGLOBIN VENOUS']\n",
    "        self.abg_names = labs[labs.str.contains('ARTERIAL')].tolist()\n",
    "        self.vbg_names = labs[labs.str.contains('VENOUS')].tolist()\n",
    "        self.co2_names = ['TCO2 VENOUS','TCO2 ARTERIAL','PCO2 ARTERIAL','PH ARTERIAL', 'PH VENOUS','PCO2 VENOUS','BASE EXCESS VENOUS']\n",
    "        \n",
    "        super(RespiratoryQuotient,self).__init__(db, encounter_id)\n",
    "        \n",
    "    def compute(self, sample=None, return_components=False):\n",
    "        if sample is not None and isinstance(sample, int):\n",
    "            # Draw n values where n=sample\n",
    "            components = self.db_sample(n=sample).dropna().sort_values(['encounter_id','time'])\n",
    "            \n",
    "        elif sample is not None and isinstance(sample, (list, type(np.array([])), type(pd.Series()))):\n",
    "            # When sample is list assume it's encounter_id's and use that set\n",
    "            components = self.db_fetch(encounter_id=sample)\n",
    "            \n",
    "        else:\n",
    "            # Otherwise fetch all\n",
    "            components = self.db_fetch()\n",
    "        \n",
    "        grouper = components.groupby('encounter_id')\n",
    "        pbar = tqdm(grouper)\n",
    "        \n",
    "        dfs = []\n",
    "        \n",
    "        for _,df in pbar:\n",
    "            hgb = df[df['name'].isin(self.hgb_names)]\n",
    "            \n",
    "            enc_dfs = []\n",
    "            eid = df.encounter_id.values[0]\n",
    "            pbar.set_description('{}_a'.format(eid))\n",
    "            sata = df[df['name'].str.contains('O2SAT ARTERIAL')]\n",
    "            po2a = df[df['name'].str.contains('PO2 ARTERIAL')]\n",
    "            aC = compute_o2_content(hgb,sata,po2a)\n",
    "            aC['name'] = 'CaO2'\n",
    "            enc_dfs.append(aC)\n",
    "            \n",
    "            co = df[df['name'].isin(['CCO','CCI'])].reset_index(drop=True)\n",
    "            co['day'] = co.time / np.timedelta64(1,'D')\n",
    "            co = co.drop(columns='time')\n",
    "            # coi = co[co['name'].isin(['CCI'])].reset_index(drop=True)\n",
    "            enc_dfs.append(co)\n",
    "\n",
    "            out = pd.concat(enc_dfs)\n",
    "            if out.name.drop_duplicates().str.contains('CC').any() and 'CaO2' in out.name.unique():\n",
    "                out['encounter_id']=eid\n",
    "                out['hour'] = (out.day*24).round().astype(int)\n",
    "                dfs.append(out)\n",
    "            \n",
    "        output = pd.concat(dfs)[['value','name','encounter_id','hour']].pivot_table(\n",
    "            index=['encounter_id','hour'], columns='name', values='value'\n",
    "        )\n",
    "        output['DO2'] = output['CCO'].interpolate(limit_area='inside')*10*output['CaO2'].interpolate(limit_area='inside')\n",
    "        output['DO2'] = output['DO2'].interpolate(limit_direction='forward')\n",
    "        \n",
    "        output['DO2_I'] = output['CCI'].interpolate(limit_area='inside')*10*output['CaO2'].interpolate(limit_area='inside')\n",
    "        output['DO2_I'] = output['DO2_I'].interpolate(limit_direction='forward')\n",
    "        return output\n",
    "    "
   ]
  },
  {
   "cell_type": "code",
   "execution_count": 88,
   "id": "9f827905-f171-4aba-bd1a-6242b8565d23",
   "metadata": {},
   "outputs": [
    {
     "name": "stdout",
     "output_type": "stream",
     "text": [
      "CohortMetrics\n",
      "- OxygenConsumption\n",
      "- CardiacPower\n"
     ]
    },
    {
     "data": {
      "text/plain": [
       "[OxygenConsumption, CardiacPower]"
      ]
     },
     "execution_count": 88,
     "metadata": {},
     "output_type": "execute_result"
    }
   ],
   "source": [
    "pc = swan.create_procedure_cohort(procedures=cabg_names)\n",
    "pc.add_continuous_metric(OxygenConsumption)\n",
    "pc.add_continuous_metric(CardiacPower)"
   ]
  },
  {
   "cell_type": "code",
   "execution_count": null,
   "id": "eefbdf57-7901-499e-8839-5520e32f6e77",
   "metadata": {},
   "outputs": [],
   "source": [
    "cont = pc.metrics.OxygenConsumption.compute(sample=60)\n",
    "# cont['VO2'] = cont['CCI'].interpolate(limit_area='inside') * 10 * (cont['CaO2'].interpolate(limit_area='inside')-cont['CvO2'].interpolate(limit_area='inside'))\n",
    "cont"
   ]
  },
  {
   "cell_type": "code",
   "execution_count": null,
   "id": "2783b215-1ae8-4ad7-b750-820d507a75b7",
   "metadata": {},
   "outputs": [],
   "source": [
    "sns.lineplot(x='hour',y='value',hue='name',\n",
    "             data=melt_metric(cont).query('encounter_id == {}'.format(cont.reset_index().encounter_id.drop_duplicates().values[0])))"
   ]
  },
  {
   "cell_type": "code",
   "execution_count": null,
   "id": "a481bfad-d5c4-441e-8ceb-ca2ac651f553",
   "metadata": {},
   "outputs": [],
   "source": [
    "getsatv = lambda d: d[d['name'].isin(['SVO2 (%)','O2SAT VENOUS MEASURED'])]"
   ]
  },
  {
   "cell_type": "code",
   "execution_count": null,
   "id": "26b0a663-08c1-45c6-bb0e-6102443f226a",
   "metadata": {},
   "outputs": [],
   "source": []
  },
  {
   "cell_type": "code",
   "execution_count": null,
   "id": "eb01b901-9042-4e59-8e0e-657a95ca8234",
   "metadata": {},
   "outputs": [],
   "source": [
    "vals = pc.metrics.OxygenConsumption.db_sample(2)\n",
    "sv = vals.groupby('encounter_id').apply(getsatv)\n",
    "pv = vals.groupby('encounter_id').apply(lambda d: d[d['name'].isin(['PO2 VENOUS'])])\n",
    "# vals[vals.name.isin(['SCVO2 (%)','SVO2 (%)','O2SAT VENOUS MEASURED'])].pivot_table(index=['encounter_id','time'],values='value', aggfunc='mean', columns='name')"
   ]
  },
  {
   "cell_type": "code",
   "execution_count": null,
   "id": "e42254d7-4f14-4564-a270-d8ec993b79ef",
   "metadata": {},
   "outputs": [],
   "source": [
    "hgb = vals[vals['name'].isin(pc.metrics.OxygenConsumption.hgb_names)]\n",
    "hgb"
   ]
  },
  {
   "cell_type": "code",
   "execution_count": null,
   "id": "d1ead6e6-4827-4983-9d99-ff72a2d7ed7c",
   "metadata": {},
   "outputs": [],
   "source": [
    "compute_o2_content(hgb=hgb, sat=sv, po2=pv)"
   ]
  },
  {
   "cell_type": "code",
   "execution_count": null,
   "id": "842a88e2-d902-4dde-99f6-d7ee39a5f005",
   "metadata": {},
   "outputs": [],
   "source": [
    "vals"
   ]
  },
  {
   "cell_type": "code",
   "execution_count": null,
   "id": "98f37b04-c4e1-4aa3-92c0-dd4137cbcef9",
   "metadata": {},
   "outputs": [],
   "source": [
    "pc.metrics.OxygenDelivery.compute(200)"
   ]
  },
  {
   "cell_type": "code",
   "execution_count": null,
   "id": "fd076dac-8199-4018-96cf-0e014937392b",
   "metadata": {},
   "outputs": [],
   "source": [
    "rq = RespiratoryQuotient(db=swan, encounter_id=eids)"
   ]
  },
  {
   "cell_type": "code",
   "execution_count": null,
   "id": "96a93e83-0cac-4240-a5ac-65eddc3c770f",
   "metadata": {},
   "outputs": [],
   "source": [
    "comp = rq.db_sample(1)\n",
    "o2_idx = comp.name.str.startswith('O2SAT')\n",
    "po2_idx = comp.name.str.startswith('PO2')\n",
    "bg = np.logical_or(o2_idx,po2_idx)\n",
    "hgb_idx = comp.name.str.startswith('HEMOGLOBIN')\n",
    "comp[bg].pivot_table(index=['encounter_id','time'],values='value', aggfunc='mean', columns='name')"
   ]
  },
  {
   "cell_type": "code",
   "execution_count": null,
   "id": "6ae3d244-f85a-4ddb-a139-dda64c0d3bc7",
   "metadata": {},
   "outputs": [],
   "source": [
    "swan.labs.search('VENOUS')"
   ]
  },
  {
   "cell_type": "code",
   "execution_count": null,
   "id": "32ef76ba-99da-426e-95cd-aa44d7563857",
   "metadata": {},
   "outputs": [],
   "source": [
    "swan.flowsheet.search('SA').values"
   ]
  },
  {
   "cell_type": "code",
   "execution_count": null,
   "id": "35327427-8bfd-48f5-80b7-b644d9234f54",
   "metadata": {},
   "outputs": [],
   "source": [
    "swan.flowsheet.sel(display_name=['ETCO2'],encounter_id=eids).flowsheet_value.astype(int).hist()"
   ]
  },
  {
   "cell_type": "code",
   "execution_count": null,
   "id": "12506ff4-4259-4200-af23-84bf58fd3362",
   "metadata": {},
   "outputs": [],
   "source": [
    "rq.vbg_names"
   ]
  },
  {
   "cell_type": "code",
   "execution_count": null,
   "id": "b1d1cbd4-977a-4110-83ca-f1d7974e0bcb",
   "metadata": {},
   "outputs": [],
   "source": [
    "tc = rq.db_sample(n=1)\n",
    "tc = tc[tc.name.isin(rq.abg_names+rq.vbg_names)]\n",
    "tc = tc.sort_values(['encounter_id','time'])\n",
    "tc['hour'] = (tc.time/np.timedelta64(1,'D') * 24).round().astype(int)\n",
    "tc['rhour'] = tc.groupby('encounter_id').hour.apply(lambda s: s - s.min()).values\n",
    "\n",
    "freqh = 8\n",
    "bn = np.arange(-1,tc.rhour.max()+freqh,freqh)\n",
    "labels = np.arange(freqh,tc\n",
    "                   .rhour.max()+freqh,freqh)\n",
    "tc['rhour_b'] = pd.cut(tc.rhour,bins=bn,\n",
    "                       labels=labels,\n",
    "                      )\n",
    "tc\n",
    "tc_pv = pd.pivot_table(index=['encounter_id','rhour_b'],values='value', aggfunc='mean', columns='name',data=tc)\n",
    "tc_pv = tc_pv.reset_index()\n",
    "tc_pv"
   ]
  },
  {
   "cell_type": "code",
   "execution_count": null,
   "id": "cc731979-1a30-4414-98cc-04c8a8485f4a",
   "metadata": {},
   "outputs": [],
   "source": [
    "swan.labs.unique()"
   ]
  },
  {
   "cell_type": "code",
   "execution_count": null,
   "id": "1da5eaa3-382f-49bb-b34f-b03bed29be3b",
   "metadata": {},
   "outputs": [],
   "source": [
    "sns.scatterplot(x='rhour',y='value',hue='name',data=tc)"
   ]
  },
  {
   "cell_type": "code",
   "execution_count": null,
   "id": "0813af77-f98c-4e8a-9cbb-dfde040781dd",
   "metadata": {},
   "outputs": [],
   "source": []
  }
 ],
 "metadata": {
  "kernelspec": {
   "display_name": "Python 3 (ipykernel)",
   "language": "python",
   "name": "python3"
  },
  "language_info": {
   "codemirror_mode": {
    "name": "ipython",
    "version": 3
   },
   "file_extension": ".py",
   "mimetype": "text/x-python",
   "name": "python",
   "nbconvert_exporter": "python",
   "pygments_lexer": "ipython3",
   "version": "3.8.12"
  }
 },
 "nbformat": 4,
 "nbformat_minor": 5
}
