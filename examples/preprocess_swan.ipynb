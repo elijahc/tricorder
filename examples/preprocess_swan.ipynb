{
 "cells": [
  {
   "cell_type": "code",
   "execution_count": 1,
   "metadata": {},
   "outputs": [
    {
     "name": "stderr",
     "output_type": "stream",
     "text": [
      "/home/elijahc/.pyenv/versions/3.6.1/envs/jupyterlab/lib/python3.6/site-packages/dask/dataframe/utils.py:14: FutureWarning: pandas.util.testing is deprecated. Use the functions in the public API at pandas.testing instead.\n",
      "  import pandas.util.testing as tm\n"
     ]
    }
   ],
   "source": [
    "import pandas as pd\n",
    "import numpy as np\n",
    "from src.datasets import TAVR,SWAN"
   ]
  },
  {
   "cell_type": "code",
   "execution_count": 2,
   "metadata": {},
   "outputs": [],
   "source": [
    "# tavr = TAVR()\n",
    "swan = SWAN(root_dir='/data/compass/raw/SWAN_20200914/')"
   ]
  },
  {
   "cell_type": "code",
   "execution_count": 3,
   "metadata": {},
   "outputs": [
    {
     "name": "stdout",
     "output_type": "stream",
     "text": [
      "Loading file: \n",
      " \t/data/compass/raw/SWAN_20200914/Table3_Lab.parquet\n"
     ]
    },
    {
     "data": {
      "text/html": [
       "<div>\n",
       "<style scoped>\n",
       "    .dataframe tbody tr th:only-of-type {\n",
       "        vertical-align: middle;\n",
       "    }\n",
       "\n",
       "    .dataframe tbody tr th {\n",
       "        vertical-align: top;\n",
       "    }\n",
       "\n",
       "    .dataframe thead th {\n",
       "        text-align: right;\n",
       "    }\n",
       "</style>\n",
       "<table border=\"1\" class=\"dataframe\">\n",
       "  <thead>\n",
       "    <tr style=\"text-align: right;\">\n",
       "      <th></th>\n",
       "      <th>encounter_id</th>\n",
       "      <th>loinc_code</th>\n",
       "      <th>lab_component_name</th>\n",
       "      <th>lab_result_value</th>\n",
       "      <th>lab_result_unit</th>\n",
       "      <th>lab_collection_days_since_birth</th>\n",
       "      <th>lab_collection_time</th>\n",
       "    </tr>\n",
       "  </thead>\n",
       "  <tbody>\n",
       "    <tr>\n",
       "      <th>0</th>\n",
       "      <td>76426820823</td>\n",
       "      <td>10839-9</td>\n",
       "      <td>TROPONIN I</td>\n",
       "      <td>0.460000</td>\n",
       "      <td>ng/mL</td>\n",
       "      <td>24756</td>\n",
       "      <td>05:58:00</td>\n",
       "    </tr>\n",
       "    <tr>\n",
       "      <th>1</th>\n",
       "      <td>36647027839</td>\n",
       "      <td>3246-6</td>\n",
       "      <td>D DIMER</td>\n",
       "      <td>40470.000000</td>\n",
       "      <td>FEU</td>\n",
       "      <td>7795</td>\n",
       "      <td>04:00:00</td>\n",
       "    </tr>\n",
       "    <tr>\n",
       "      <th>2</th>\n",
       "      <td>90823975539</td>\n",
       "      <td>66748-5</td>\n",
       "      <td>TEG: ALPHA ANGLE</td>\n",
       "      <td>43.099998</td>\n",
       "      <td>Degrees</td>\n",
       "      <td>23107</td>\n",
       "      <td>10:23:00</td>\n",
       "    </tr>\n",
       "    <tr>\n",
       "      <th>3</th>\n",
       "      <td>72177761088</td>\n",
       "      <td>10839-9</td>\n",
       "      <td>TROPONIN I</td>\n",
       "      <td>0.200000</td>\n",
       "      <td>ng/mL</td>\n",
       "      <td>31840</td>\n",
       "      <td>18:30:00</td>\n",
       "    </tr>\n",
       "    <tr>\n",
       "      <th>4</th>\n",
       "      <td>66704709529</td>\n",
       "      <td>2692-2</td>\n",
       "      <td>OSMOLALITY SERUM</td>\n",
       "      <td>277.000000</td>\n",
       "      <td>mOsm/kg</td>\n",
       "      <td>21147</td>\n",
       "      <td>03:31:00</td>\n",
       "    </tr>\n",
       "  </tbody>\n",
       "</table>\n",
       "</div>"
      ],
      "text/plain": [
       "   encounter_id loinc_code lab_component_name  lab_result_value  \\\n",
       "0   76426820823    10839-9         TROPONIN I          0.460000   \n",
       "1   36647027839     3246-6            D DIMER      40470.000000   \n",
       "2   90823975539    66748-5   TEG: ALPHA ANGLE         43.099998   \n",
       "3   72177761088    10839-9         TROPONIN I          0.200000   \n",
       "4   66704709529     2692-2   OSMOLALITY SERUM        277.000000   \n",
       "\n",
       "  lab_result_unit  lab_collection_days_since_birth lab_collection_time  \n",
       "0           ng/mL                            24756            05:58:00  \n",
       "1             FEU                             7795            04:00:00  \n",
       "2         Degrees                            23107            10:23:00  \n",
       "3           ng/mL                            31840            18:30:00  \n",
       "4         mOsm/kg                            21147            03:31:00  "
      ]
     },
     "execution_count": 3,
     "metadata": {},
     "output_type": "execute_result"
    }
   ],
   "source": [
    "enc = swan.labs.load_table()\n",
    "enc.head()"
   ]
  },
  {
   "cell_type": "code",
   "execution_count": 4,
   "metadata": {},
   "outputs": [
    {
     "name": "stdout",
     "output_type": "stream",
     "text": [
      "Loading file: \n",
      " \t/data/compass/raw/SWAN_20200914/Table2_Flowsheet.csv\n",
      "   Error loading table\n",
      "   invalid literal for int() with base 10: '>32507'\n",
      "   Loading without dtypes\n",
      "\n",
      "Loading file: \n",
      " \t/data/compass/raw/SWAN_20200914/Table2_Flowsheet.csv\n"
     ]
    },
    {
     "name": "stderr",
     "output_type": "stream",
     "text": [
      "/home/elijahc/.pyenv/versions/3.6.1/envs/jupyterlab/lib/python3.6/site-packages/ipykernel_launcher.py:1: DtypeWarning: Columns (4) have mixed types.Specify dtype option on import or set low_memory=False.\n",
      "  \"\"\"Entry point for launching an IPython kernel.\n"
     ]
    },
    {
     "name": "stdout",
     "output_type": "stream",
     "text": [
      "cleaning...\n",
      "<class 'pandas.core.frame.DataFrame'>\n",
      "Int64Index: 4349867 entries, 0 to 5907085\n",
      "Data columns (total 5 columns):\n",
      " #   Column                      Dtype   \n",
      "---  ------                      -----   \n",
      " 0   encounter_id                int64   \n",
      " 1   flowsheet_days_since_birth  uint64  \n",
      " 2   flowsheet_time              object  \n",
      " 3   display_name                category\n",
      " 4   flowsheet_value             float64 \n",
      "dtypes: category(1), float64(1), int64(1), object(1), uint64(1)\n",
      "memory usage: 174.2+ MB\n"
     ]
    }
   ],
   "source": [
    "flow = swan.flowsheet.load_table()\n",
    "flow.flowsheet_days_since_birth = flow.flowsheet_days_since_birth.astype(np.uint64)\n",
    "flow.info()"
   ]
  },
  {
   "cell_type": "code",
   "execution_count": 7,
   "metadata": {},
   "outputs": [
    {
     "data": {
      "text/html": [
       "<div>\n",
       "<style scoped>\n",
       "    .dataframe tbody tr th:only-of-type {\n",
       "        vertical-align: middle;\n",
       "    }\n",
       "\n",
       "    .dataframe tbody tr th {\n",
       "        vertical-align: top;\n",
       "    }\n",
       "\n",
       "    .dataframe thead th {\n",
       "        text-align: right;\n",
       "    }\n",
       "</style>\n",
       "<table border=\"1\" class=\"dataframe\">\n",
       "  <thead>\n",
       "    <tr style=\"text-align: right;\">\n",
       "      <th></th>\n",
       "      <th>encounter_id</th>\n",
       "      <th>flowsheet_days_since_birth</th>\n",
       "      <th>flowsheet_time</th>\n",
       "      <th>display_name</th>\n",
       "      <th>flowsheet_value</th>\n",
       "    </tr>\n",
       "  </thead>\n",
       "  <tbody>\n",
       "    <tr>\n",
       "      <th>0</th>\n",
       "      <td>39195482126</td>\n",
       "      <td>39195482126</td>\n",
       "      <td>00:01:00</td>\n",
       "      <td>LVSWI</td>\n",
       "      <td>19.50</td>\n",
       "    </tr>\n",
       "    <tr>\n",
       "      <th>1</th>\n",
       "      <td>37053606074</td>\n",
       "      <td>37053606074</td>\n",
       "      <td>00:03:00</td>\n",
       "      <td>Static Pressure (cmH2O)</td>\n",
       "      <td>20.00</td>\n",
       "    </tr>\n",
       "    <tr>\n",
       "      <th>2</th>\n",
       "      <td>89373276657</td>\n",
       "      <td>89373276657</td>\n",
       "      <td>20:50:00</td>\n",
       "      <td>Set Ve (L/min)</td>\n",
       "      <td>5.88</td>\n",
       "    </tr>\n",
       "    <tr>\n",
       "      <th>6</th>\n",
       "      <td>119008027650</td>\n",
       "      <td>119008027650</td>\n",
       "      <td>00:08:00</td>\n",
       "      <td>Volume (mL) Vasopressin</td>\n",
       "      <td>0.00</td>\n",
       "    </tr>\n",
       "    <tr>\n",
       "      <th>8</th>\n",
       "      <td>41538170175</td>\n",
       "      <td>41538170175</td>\n",
       "      <td>04:52:00</td>\n",
       "      <td>Inspiratory Time (sec)</td>\n",
       "      <td>0.90</td>\n",
       "    </tr>\n",
       "  </tbody>\n",
       "</table>\n",
       "</div>"
      ],
      "text/plain": [
       "   encounter_id  flowsheet_days_since_birth flowsheet_time  \\\n",
       "0   39195482126                 39195482126       00:01:00   \n",
       "1   37053606074                 37053606074       00:03:00   \n",
       "2   89373276657                 89373276657       20:50:00   \n",
       "6  119008027650                119008027650       00:08:00   \n",
       "8   41538170175                 41538170175       04:52:00   \n",
       "\n",
       "              display_name  flowsheet_value  \n",
       "0                    LVSWI            19.50  \n",
       "1  Static Pressure (cmH2O)            20.00  \n",
       "2           Set Ve (L/min)             5.88  \n",
       "6  Volume (mL) Vasopressin             0.00  \n",
       "8   Inspiratory Time (sec)             0.90  "
      ]
     },
     "execution_count": 7,
     "metadata": {},
     "output_type": "execute_result"
    }
   ],
   "source": [
    "flow.head()"
   ]
  },
  {
   "cell_type": "code",
   "execution_count": 8,
   "metadata": {},
   "outputs": [
    {
     "name": "stdout",
     "output_type": "stream",
     "text": [
      "<class 'pandas.core.frame.DataFrame'>\n",
      "Int64Index: 4349867 entries, 0 to 5907085\n",
      "Data columns (total 5 columns):\n",
      " #   Column                      Dtype   \n",
      "---  ------                      -----   \n",
      " 0   encounter_id                uint64  \n",
      " 1   flowsheet_days_since_birth  uint64  \n",
      " 2   flowsheet_time              object  \n",
      " 3   display_name                category\n",
      " 4   flowsheet_value             float64 \n",
      "dtypes: category(1), float64(1), object(1), uint64(2)\n",
      "memory usage: 174.2+ MB\n"
     ]
    }
   ],
   "source": [
    "flow.encounter_id = flow.encounter_id.astype(np.uint64)\n",
    "flow.info()"
   ]
  },
  {
   "cell_type": "code",
   "execution_count": null,
   "metadata": {},
   "outputs": [],
   "source": [
    "enc.info()"
   ]
  },
  {
   "cell_type": "code",
   "execution_count": null,
   "metadata": {},
   "outputs": [],
   "source": [
    "enc.loinc_code = enc.loinc_code.astype('category')"
   ]
  },
  {
   "cell_type": "code",
   "execution_count": null,
   "metadata": {},
   "outputs": [],
   "source": [
    "enc.info()"
   ]
  },
  {
   "cell_type": "code",
   "execution_count": null,
   "metadata": {},
   "outputs": [],
   "source": [
    "enc.to_parquet('/data/compass/raw/SWAN_20200914/Table3_Lab.parquet')"
   ]
  },
  {
   "cell_type": "code",
   "execution_count": null,
   "metadata": {},
   "outputs": [],
   "source": [
    "procs = swan.procedures.load_table()\n",
    "procs.order_name = procs.order_name.astype('category')\n",
    "procs.person_id = procs.person_id.astype(np.uint64)\n",
    "procs.info()"
   ]
  },
  {
   "cell_type": "code",
   "execution_count": null,
   "metadata": {},
   "outputs": [],
   "source": [
    "procs.to_parquet('/data/compass/raw/SWAN_20200914/Table6_Procedure.parquet')"
   ]
  },
  {
   "cell_type": "code",
   "execution_count": null,
   "metadata": {},
   "outputs": [],
   "source": [
    "# tranex_doses = [m for m in meds.medication_name.unique() if 'TRAN' in m]\n",
    "# tranex_doses"
   ]
  },
  {
   "cell_type": "code",
   "execution_count": null,
   "metadata": {},
   "outputs": [],
   "source": [
    "# meds[meds.medication_name.isin(tranex_doses)]"
   ]
  },
  {
   "cell_type": "code",
   "execution_count": null,
   "metadata": {},
   "outputs": [],
   "source": [
    "n = 2000\n",
    "x = np.linspace(0.0,10.0,n)\n",
    "np.random.seed(0)\n",
    "y = np.cumsum(np.random.randn(n)*10).astype(int)"
   ]
  },
  {
   "cell_type": "code",
   "execution_count": null,
   "metadata": {},
   "outputs": [],
   "source": [
    "fig_hist = plt.figure( title='Histogram')\n",
    "hist = plt.hist(y,bins=25)\n",
    "fig_hist"
   ]
  },
  {
   "cell_type": "code",
   "execution_count": null,
   "metadata": {},
   "outputs": [],
   "source": [
    "hist.bins = 50"
   ]
  },
  {
   "cell_type": "code",
   "execution_count": null,
   "metadata": {},
   "outputs": [],
   "source": [
    "slider = widgets.IntSlider(min=1,max=100, v_model=30)\n",
    "slider"
   ]
  },
  {
   "cell_type": "code",
   "execution_count": null,
   "metadata": {},
   "outputs": [],
   "source": [
    "slider.value=20;"
   ]
  },
  {
   "cell_type": "code",
   "execution_count": null,
   "metadata": {},
   "outputs": [],
   "source": [
    "widgets.link((hist,'bins'),(slider,'value'));"
   ]
  },
  {
   "cell_type": "code",
   "execution_count": null,
   "metadata": {},
   "outputs": [],
   "source": []
  }
 ],
 "metadata": {
  "kernelspec": {
   "display_name": "Python 3",
   "language": "python",
   "name": "python3"
  },
  "language_info": {
   "codemirror_mode": {
    "name": "ipython",
    "version": 3
   },
   "file_extension": ".py",
   "mimetype": "text/x-python",
   "name": "python",
   "nbconvert_exporter": "python",
   "pygments_lexer": "ipython3",
   "version": "3.6.1"
  }
 },
 "nbformat": 4,
 "nbformat_minor": 4
}
