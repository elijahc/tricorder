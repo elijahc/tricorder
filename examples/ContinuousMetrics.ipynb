{
 "cells": [
  {
   "cell_type": "code",
   "execution_count": 28,
   "id": "3fb18bca-f321-487c-ad46-948f2fd9593e",
   "metadata": {},
   "outputs": [],
   "source": [
    "import pandas as pd\n",
    "import seaborn as sns\n",
    "import matplotlib.pyplot as plt\n",
    "import numpy as np\n",
    "from src.swan import SWAN\n",
    "from tricorder.procedure_codesets import cabg_names\n",
    "\n",
    "from src.outcome_metrics import Metric, OxygenDelivery, CardiacPower, compute_o2_content, OxygenConsumption, pivot_tidy, melt_tidy"
   ]
  },
  {
   "cell_type": "code",
   "execution_count": 2,
   "id": "3b635154-2987-44ed-a39e-80d2c44a9efd",
   "metadata": {},
   "outputs": [],
   "source": [
    "swan = SWAN('/Users/elijahc/data/compass/SWAN/')\n",
    "eids = swan.procedures.sel(order_name=cabg_names).encounter_id.unique()"
   ]
  },
  {
   "cell_type": "code",
   "execution_count": 3,
   "id": "bc5400bc-d5c2-42a2-9f02-f62d6e1ff865",
   "metadata": {
    "tags": []
   },
   "outputs": [],
   "source": [
    "class Pulsatility(Metric):\n",
    "    shortname = \"Pulsatility\"\n",
    "    classname = 'Pulsatility'\n",
    "    REQUIRES = {\n",
    "        'flowsheet' : ['BP']\n",
    "    }\n",
    "    \n",
    "    def __init__(self, db, encounter_id=None):\n",
    "        super(Pulsatility,self).__init__(db, encounter_id)\n",
    "    \n",
    "    def after_flowsheet_sel(self,df):\n",
    "        df = df[df.flowsheet_value.str.contains('/')]\n",
    "        bp = [s.split('/') for s in df.flowsheet_value.values]\n",
    "        bp = pd.DataFrame(bp,columns=['SBP','DBP'])\n",
    "        df = df.drop(columns=['display_name','flowsheet_value'])\n",
    "        df['display_name'] = 'SBP'\n",
    "        df['flowsheet_value'] = bp.SBP\n",
    "        dbp = df.copy()\n",
    "        dbp.display_name = 'DBP'\n",
    "        dbp.flowsheet_value = bp.DBP\n",
    "        \n",
    "        return pd.concat([df.reset_index(),dbp.reset_index()])\n",
    "        \n",
    "    def _prep(self, sample=None, encounter_id=None):\n",
    "        if sample is not None and isinstance(sample, int):    \n",
    "            components = self.db_sample(n=sample).dropna().sort_values(['encounter_id','time'])\n",
    "        elif sample is not None and isinstance(sample, (list, type(np.array([])), type(pd.Series()))):\n",
    "            components = self.db_fetch(encounter_id=sample)\n",
    "        else:\n",
    "            components = self.db_fetch()\n",
    "        return pivot_tidy(components,t='time')\n",
    "    \n",
    "    def compute(self, sample=None, with_components=False, encounter_id=None):\n",
    "        pvdf = self._prep(sample=sample, encounter_id=encounter_id)\n",
    "        pvdf['pulsatility'] = pvdf.SBP-pvdf.DBP\n",
    "        if not with_components:\n",
    "            return pvdf['pulsatility'].reset_index()\n",
    "        else:\n",
    "            return pvdf"
   ]
  },
  {
   "cell_type": "code",
   "execution_count": 4,
   "id": "ece44c97-ece5-40e5-9724-6b641b0da8b8",
   "metadata": {},
   "outputs": [
    {
     "name": "stdout",
     "output_type": "stream",
     "text": [
      "CohortMetrics\n",
      "- Pulsatility\n"
     ]
    },
    {
     "data": {
      "text/plain": [
       "[Pulsatility]"
      ]
     },
     "execution_count": 4,
     "metadata": {},
     "output_type": "execute_result"
    }
   ],
   "source": [
    "pc = swan.create_procedure_cohort(procedures=cabg_names)\n",
    "pc.add_continuous_metric(Pulsatility)"
   ]
  },
  {
   "cell_type": "code",
   "execution_count": 5,
   "id": "4e83e0db-a74e-48d5-a74f-6eabaa1f06e8",
   "metadata": {},
   "outputs": [
    {
     "name": "stdout",
     "output_type": "stream",
     "text": [
      "CohortMetrics\n",
      "- Pulsatility\n",
      "- OxygenConsumption\n",
      "- OxygenDelivery\n",
      "- CardiacPower\n"
     ]
    },
    {
     "data": {
      "text/plain": [
       "[Pulsatility, OxygenConsumption, OxygenDelivery, CardiacPower]"
      ]
     },
     "execution_count": 5,
     "metadata": {},
     "output_type": "execute_result"
    }
   ],
   "source": [
    "pc.add_continuous_metric(OxygenConsumption)\n",
    "pc.add_continuous_metric(OxygenDelivery)\n",
    "pc.add_continuous_metric(CardiacPower)"
   ]
  },
  {
   "cell_type": "code",
   "execution_count": 6,
   "id": "1794ca37-d64b-4bb6-a37e-cf54192c5c70",
   "metadata": {},
   "outputs": [
    {
     "data": {
      "application/vnd.jupyter.widget-view+json": {
       "model_id": "3311275b31674f54bd654990cf82f846",
       "version_major": 2,
       "version_minor": 0
      },
      "text/plain": [
       "  0%|          | 0/839 [00:00<?, ?it/s]"
      ]
     },
     "metadata": {},
     "output_type": "display_data"
    },
    {
     "data": {
      "text/html": [
       "<div>\n",
       "<style scoped>\n",
       "    .dataframe tbody tr th:only-of-type {\n",
       "        vertical-align: middle;\n",
       "    }\n",
       "\n",
       "    .dataframe tbody tr th {\n",
       "        vertical-align: top;\n",
       "    }\n",
       "\n",
       "    .dataframe thead th {\n",
       "        text-align: right;\n",
       "    }\n",
       "</style>\n",
       "<table border=\"1\" class=\"dataframe\">\n",
       "  <thead>\n",
       "    <tr style=\"text-align: right;\">\n",
       "      <th></th>\n",
       "      <th>encounter_id</th>\n",
       "      <th>time</th>\n",
       "      <th>name</th>\n",
       "      <th>value</th>\n",
       "    </tr>\n",
       "  </thead>\n",
       "  <tbody>\n",
       "    <tr>\n",
       "      <th>13910</th>\n",
       "      <td>36802471722</td>\n",
       "      <td>26304 days 16:00:00</td>\n",
       "      <td>DO2_I</td>\n",
       "      <td>NaN</td>\n",
       "    </tr>\n",
       "    <tr>\n",
       "      <th>13911</th>\n",
       "      <td>36802471722</td>\n",
       "      <td>26304 days 18:00:00</td>\n",
       "      <td>DO2_I</td>\n",
       "      <td>NaN</td>\n",
       "    </tr>\n",
       "    <tr>\n",
       "      <th>13912</th>\n",
       "      <td>36802471722</td>\n",
       "      <td>26304 days 19:00:00</td>\n",
       "      <td>DO2_I</td>\n",
       "      <td>NaN</td>\n",
       "    </tr>\n",
       "    <tr>\n",
       "      <th>13913</th>\n",
       "      <td>36802471722</td>\n",
       "      <td>26304 days 20:00:00</td>\n",
       "      <td>DO2_I</td>\n",
       "      <td>575.880661</td>\n",
       "    </tr>\n",
       "    <tr>\n",
       "      <th>13914</th>\n",
       "      <td>36802471722</td>\n",
       "      <td>26304 days 21:00:00</td>\n",
       "      <td>DO2_I</td>\n",
       "      <td>437.762514</td>\n",
       "    </tr>\n",
       "  </tbody>\n",
       "</table>\n",
       "</div>"
      ],
      "text/plain": [
       "       encounter_id                time   name       value\n",
       "13910   36802471722 26304 days 16:00:00  DO2_I         NaN\n",
       "13911   36802471722 26304 days 18:00:00  DO2_I         NaN\n",
       "13912   36802471722 26304 days 19:00:00  DO2_I         NaN\n",
       "13913   36802471722 26304 days 20:00:00  DO2_I  575.880661\n",
       "13914   36802471722 26304 days 21:00:00  DO2_I  437.762514"
      ]
     },
     "execution_count": 6,
     "metadata": {},
     "output_type": "execute_result"
    }
   ],
   "source": [
    "do = pc.metrics.OxygenDelivery.compute().query('name == \"DO2_I\"')\n",
    "do.head()"
   ]
  },
  {
   "cell_type": "code",
   "execution_count": 7,
   "id": "12f34d26-ba2c-46a4-a7ed-5ec9cac34432",
   "metadata": {},
   "outputs": [],
   "source": [
    "do = pc.align_metric(do)\n",
    "do['hour'] = do.time/np.timedelta64(1,'D')*24\n",
    "do = do.dropna().merge(pc.mortality, on='encounter_id', how='left')\n",
    "do = do.query('hour >= -24 and hour <= 120')"
   ]
  },
  {
   "cell_type": "code",
   "execution_count": 8,
   "id": "41b871b4-37b1-47e2-9ea4-df0232abbc8f",
   "metadata": {},
   "outputs": [
    {
     "name": "stdout",
     "output_type": "stream",
     "text": [
      "<class 'pandas.core.frame.DataFrame'>\n",
      "Int64Index: 12737 entries, 0 to 14459\n",
      "Data columns (total 7 columns):\n",
      " #   Column        Non-Null Count  Dtype          \n",
      "---  ------        --------------  -----          \n",
      " 0   encounter_id  12737 non-null  uint64         \n",
      " 1   time          12737 non-null  timedelta64[ns]\n",
      " 2   name          12737 non-null  object         \n",
      " 3   value         12737 non-null  float64        \n",
      " 4   offset        12737 non-null  int64          \n",
      " 5   hour          12737 non-null  float64        \n",
      " 6   death         12737 non-null  object         \n",
      "dtypes: float64(2), int64(1), object(2), timedelta64[ns](1), uint64(1)\n",
      "memory usage: 796.1+ KB\n"
     ]
    }
   ],
   "source": [
    "do.info()"
   ]
  },
  {
   "cell_type": "code",
   "execution_count": 9,
   "id": "b34e3c2a-f57b-4898-a694-cd50be696e18",
   "metadata": {},
   "outputs": [
    {
     "data": {
      "text/plain": [
       "<AxesSubplot:xlabel='hour', ylabel='value'>"
      ]
     },
     "execution_count": 9,
     "metadata": {},
     "output_type": "execute_result"
    },
    {
     "data": {
      "image/png": "[encoded data removed]",
      "text/plain": [
       "<Figure size 432x288 with 1 Axes>"
      ]
     },
     "metadata": {
      "needs_background": "light"
     },
     "output_type": "display_data"
    }
   ],
   "source": [
    "sns.lineplot(x='hour',y='value',hue='death',data=do.reset_index())"
   ]
  },
  {
   "cell_type": "code",
   "execution_count": 15,
   "id": "d9ab1591-6aed-4d1e-ac33-2e78fbcbae89",
   "metadata": {},
   "outputs": [
    {
     "data": {
      "application/vnd.jupyter.widget-view+json": {
       "model_id": "71c1814761e94c089b36de47f813cb64",
       "version_major": 2,
       "version_minor": 0
      },
      "text/plain": [
       "  0%|          | 0/840 [00:00<?, ?it/s]"
      ]
     },
     "metadata": {},
     "output_type": "display_data"
    }
   ],
   "source": [
    "vo = pc.metrics.OxygenConsumption.compute().query('name == \"VO2_I\"')\n",
    "vo = pc.align_metric(vo)\n",
    "vo['hour'] = vo.time/np.timedelta64(1,'D')*24\n",
    "vo = vo.dropna().merge(pc.mortality, on='encounter_id', how='left')\n",
    "vo = vo.query('hour >= -24 and hour <= 120')"
   ]
  },
  {
   "cell_type": "code",
   "execution_count": 17,
   "id": "73a3dc08-b59d-494f-b9ae-683cfd4a21e9",
   "metadata": {},
   "outputs": [
    {
     "data": {
      "text/plain": [
       "<AxesSubplot:xlabel='hour', ylabel='value'>"
      ]
     },
     "execution_count": 17,
     "metadata": {},
     "output_type": "execute_result"
    },
    {
     "data": {
      "image/png": "[encoded data removed]",
      "text/plain": [
       "<Figure size 432x288 with 1 Axes>"
      ]
     },
     "metadata": {
      "needs_background": "light"
     },
     "output_type": "display_data"
    }
   ],
   "source": [
    "sns.lineplot(x='hour',y='value',hue='death',data=vo.reset_index())"
   ]
  },
  {
   "cell_type": "code",
   "execution_count": 21,
   "id": "51532f7a-3352-4319-ac7d-e7ffb1dcc14f",
   "metadata": {},
   "outputs": [
    {
     "data": {
      "application/vnd.jupyter.widget-view+json": {
       "model_id": "4cfe48cc32324cae8777d2b790ec3839",
       "version_major": 2,
       "version_minor": 0
      },
      "text/plain": [
       "  0%|          | 0/840 [00:00<?, ?it/s]"
      ]
     },
     "metadata": {},
     "output_type": "display_data"
    },
    {
     "data": {
      "text/html": [
       "<div>\n",
       "<style scoped>\n",
       "    .dataframe tbody tr th:only-of-type {\n",
       "        vertical-align: middle;\n",
       "    }\n",
       "\n",
       "    .dataframe tbody tr th {\n",
       "        vertical-align: top;\n",
       "    }\n",
       "\n",
       "    .dataframe thead th {\n",
       "        text-align: right;\n",
       "    }\n",
       "</style>\n",
       "<table border=\"1\" class=\"dataframe\">\n",
       "  <thead>\n",
       "    <tr style=\"text-align: right;\">\n",
       "      <th></th>\n",
       "      <th>encounter_id</th>\n",
       "      <th>time</th>\n",
       "      <th>value</th>\n",
       "      <th>name</th>\n",
       "      <th>offset</th>\n",
       "      <th>hour</th>\n",
       "      <th>death</th>\n",
       "    </tr>\n",
       "  </thead>\n",
       "  <tbody>\n",
       "    <tr>\n",
       "      <th>0</th>\n",
       "      <td>36802471722</td>\n",
       "      <td>0 days 20:00:00</td>\n",
       "      <td>1.490022</td>\n",
       "      <td>Cardiac Power</td>\n",
       "      <td>26304</td>\n",
       "      <td>20.00</td>\n",
       "      <td>False</td>\n",
       "    </tr>\n",
       "    <tr>\n",
       "      <th>1</th>\n",
       "      <td>36802471722</td>\n",
       "      <td>0 days 20:15:00</td>\n",
       "      <td>1.137472</td>\n",
       "      <td>Cardiac Power</td>\n",
       "      <td>26304</td>\n",
       "      <td>20.25</td>\n",
       "      <td>False</td>\n",
       "    </tr>\n",
       "    <tr>\n",
       "      <th>2</th>\n",
       "      <td>36802471722</td>\n",
       "      <td>0 days 20:30:00</td>\n",
       "      <td>0.899335</td>\n",
       "      <td>Cardiac Power</td>\n",
       "      <td>26304</td>\n",
       "      <td>20.50</td>\n",
       "      <td>False</td>\n",
       "    </tr>\n",
       "    <tr>\n",
       "      <th>3</th>\n",
       "      <td>36802471722</td>\n",
       "      <td>0 days 20:45:00</td>\n",
       "      <td>1.073171</td>\n",
       "      <td>Cardiac Power</td>\n",
       "      <td>26304</td>\n",
       "      <td>20.75</td>\n",
       "      <td>False</td>\n",
       "    </tr>\n",
       "    <tr>\n",
       "      <th>4</th>\n",
       "      <td>36802471722</td>\n",
       "      <td>0 days 21:00:00</td>\n",
       "      <td>0.799113</td>\n",
       "      <td>Cardiac Power</td>\n",
       "      <td>26304</td>\n",
       "      <td>21.00</td>\n",
       "      <td>False</td>\n",
       "    </tr>\n",
       "    <tr>\n",
       "      <th>...</th>\n",
       "      <td>...</td>\n",
       "      <td>...</td>\n",
       "      <td>...</td>\n",
       "      <td>...</td>\n",
       "      <td>...</td>\n",
       "      <td>...</td>\n",
       "      <td>...</td>\n",
       "    </tr>\n",
       "    <tr>\n",
       "      <th>38818</th>\n",
       "      <td>169906456092</td>\n",
       "      <td>1 days 03:00:00</td>\n",
       "      <td>0.603991</td>\n",
       "      <td>Cardiac Power</td>\n",
       "      <td>22740</td>\n",
       "      <td>27.00</td>\n",
       "      <td>False</td>\n",
       "    </tr>\n",
       "    <tr>\n",
       "      <th>38819</th>\n",
       "      <td>169906456092</td>\n",
       "      <td>1 days 04:00:00</td>\n",
       "      <td>0.629268</td>\n",
       "      <td>Cardiac Power</td>\n",
       "      <td>22740</td>\n",
       "      <td>28.00</td>\n",
       "      <td>False</td>\n",
       "    </tr>\n",
       "    <tr>\n",
       "      <th>38820</th>\n",
       "      <td>169906456092</td>\n",
       "      <td>1 days 05:00:00</td>\n",
       "      <td>0.654545</td>\n",
       "      <td>Cardiac Power</td>\n",
       "      <td>22740</td>\n",
       "      <td>29.00</td>\n",
       "      <td>False</td>\n",
       "    </tr>\n",
       "    <tr>\n",
       "      <th>38821</th>\n",
       "      <td>169906456092</td>\n",
       "      <td>1 days 06:00:00</td>\n",
       "      <td>0.679823</td>\n",
       "      <td>Cardiac Power</td>\n",
       "      <td>22740</td>\n",
       "      <td>30.00</td>\n",
       "      <td>False</td>\n",
       "    </tr>\n",
       "    <tr>\n",
       "      <th>38822</th>\n",
       "      <td>169906456092</td>\n",
       "      <td>1 days 07:00:00</td>\n",
       "      <td>0.705100</td>\n",
       "      <td>Cardiac Power</td>\n",
       "      <td>22740</td>\n",
       "      <td>31.00</td>\n",
       "      <td>False</td>\n",
       "    </tr>\n",
       "  </tbody>\n",
       "</table>\n",
       "<p>38823 rows × 7 columns</p>\n",
       "</div>"
      ],
      "text/plain": [
       "       encounter_id            time     value           name  offset   hour  \\\n",
       "0       36802471722 0 days 20:00:00  1.490022  Cardiac Power   26304  20.00   \n",
       "1       36802471722 0 days 20:15:00  1.137472  Cardiac Power   26304  20.25   \n",
       "2       36802471722 0 days 20:30:00  0.899335  Cardiac Power   26304  20.50   \n",
       "3       36802471722 0 days 20:45:00  1.073171  Cardiac Power   26304  20.75   \n",
       "4       36802471722 0 days 21:00:00  0.799113  Cardiac Power   26304  21.00   \n",
       "...             ...             ...       ...            ...     ...    ...   \n",
       "38818  169906456092 1 days 03:00:00  0.603991  Cardiac Power   22740  27.00   \n",
       "38819  169906456092 1 days 04:00:00  0.629268  Cardiac Power   22740  28.00   \n",
       "38820  169906456092 1 days 05:00:00  0.654545  Cardiac Power   22740  29.00   \n",
       "38821  169906456092 1 days 06:00:00  0.679823  Cardiac Power   22740  30.00   \n",
       "38822  169906456092 1 days 07:00:00  0.705100  Cardiac Power   22740  31.00   \n",
       "\n",
       "       death  \n",
       "0      False  \n",
       "1      False  \n",
       "2      False  \n",
       "3      False  \n",
       "4      False  \n",
       "...      ...  \n",
       "38818  False  \n",
       "38819  False  \n",
       "38820  False  \n",
       "38821  False  \n",
       "38822  False  \n",
       "\n",
       "[38823 rows x 7 columns]"
      ]
     },
     "execution_count": 21,
     "metadata": {},
     "output_type": "execute_result"
    }
   ],
   "source": [
    "cpo = pc.metrics.CardiacPower.compute()\n",
    "cpo = pc.align_metric(cpo)\n",
    "cpo['hour'] = cpo.time/np.timedelta64(1,'D')*24\n",
    "cpo = cpo.dropna().merge(pc.mortality, on='encounter_id', how='left')\n",
    "cpo"
   ]
  },
  {
   "cell_type": "code",
   "execution_count": 44,
   "id": "8d9bb4cf-5437-4177-86ef-c1fdcd122bd2",
   "metadata": {},
   "outputs": [],
   "source": [
    "cpo['time_d'] = pd.to_timedelta((cpo.hour/24).round(),unit='day')\n",
    "cpo_pv = cpo[['encounter_id','time_d','name','value']].pivot_table(index=['encounter_id','time_d'],columns='name',values='value',aggfunc='max')"
   ]
  },
  {
   "cell_type": "code",
   "execution_count": 45,
   "id": "82ee8ac2-8e84-4c6a-be7e-5ed4b46acdda",
   "metadata": {},
   "outputs": [
    {
     "data": {
      "text/html": [
       "<div>\n",
       "<style scoped>\n",
       "    .dataframe tbody tr th:only-of-type {\n",
       "        vertical-align: middle;\n",
       "    }\n",
       "\n",
       "    .dataframe tbody tr th {\n",
       "        vertical-align: top;\n",
       "    }\n",
       "\n",
       "    .dataframe thead th {\n",
       "        text-align: right;\n",
       "    }\n",
       "</style>\n",
       "<table border=\"1\" class=\"dataframe\">\n",
       "  <thead>\n",
       "    <tr style=\"text-align: right;\">\n",
       "      <th></th>\n",
       "      <th>encounter_id</th>\n",
       "      <th>time_d</th>\n",
       "      <th>name</th>\n",
       "      <th>value</th>\n",
       "      <th>death</th>\n",
       "    </tr>\n",
       "  </thead>\n",
       "  <tbody>\n",
       "    <tr>\n",
       "      <th>0</th>\n",
       "      <td>36802471722</td>\n",
       "      <td>1.0</td>\n",
       "      <td>Cardiac Power</td>\n",
       "      <td>1.490022</td>\n",
       "      <td>False</td>\n",
       "    </tr>\n",
       "    <tr>\n",
       "      <th>1</th>\n",
       "      <td>36806575047</td>\n",
       "      <td>1.0</td>\n",
       "      <td>Cardiac Power</td>\n",
       "      <td>0.880044</td>\n",
       "      <td>False</td>\n",
       "    </tr>\n",
       "    <tr>\n",
       "      <th>2</th>\n",
       "      <td>36806575047</td>\n",
       "      <td>2.0</td>\n",
       "      <td>Cardiac Power</td>\n",
       "      <td>0.543459</td>\n",
       "      <td>False</td>\n",
       "    </tr>\n",
       "    <tr>\n",
       "      <th>3</th>\n",
       "      <td>36864529454</td>\n",
       "      <td>1.0</td>\n",
       "      <td>Cardiac Power</td>\n",
       "      <td>0.599335</td>\n",
       "      <td>False</td>\n",
       "    </tr>\n",
       "    <tr>\n",
       "      <th>4</th>\n",
       "      <td>36893446239</td>\n",
       "      <td>1.0</td>\n",
       "      <td>Cardiac Power</td>\n",
       "      <td>0.504878</td>\n",
       "      <td>False</td>\n",
       "    </tr>\n",
       "    <tr>\n",
       "      <th>...</th>\n",
       "      <td>...</td>\n",
       "      <td>...</td>\n",
       "      <td>...</td>\n",
       "      <td>...</td>\n",
       "      <td>...</td>\n",
       "    </tr>\n",
       "    <tr>\n",
       "      <th>1736</th>\n",
       "      <td>167845267514</td>\n",
       "      <td>5.0</td>\n",
       "      <td>Cardiac Power</td>\n",
       "      <td>0.871428</td>\n",
       "      <td>False</td>\n",
       "    </tr>\n",
       "    <tr>\n",
       "      <th>1737</th>\n",
       "      <td>169437660419</td>\n",
       "      <td>1.0</td>\n",
       "      <td>Cardiac Power</td>\n",
       "      <td>1.515299</td>\n",
       "      <td>False</td>\n",
       "    </tr>\n",
       "    <tr>\n",
       "      <th>1738</th>\n",
       "      <td>169887752836</td>\n",
       "      <td>1.0</td>\n",
       "      <td>Cardiac Power</td>\n",
       "      <td>0.918071</td>\n",
       "      <td>False</td>\n",
       "    </tr>\n",
       "    <tr>\n",
       "      <th>1739</th>\n",
       "      <td>169887752836</td>\n",
       "      <td>2.0</td>\n",
       "      <td>Cardiac Power</td>\n",
       "      <td>0.819512</td>\n",
       "      <td>False</td>\n",
       "    </tr>\n",
       "    <tr>\n",
       "      <th>1740</th>\n",
       "      <td>169906456092</td>\n",
       "      <td>1.0</td>\n",
       "      <td>Cardiac Power</td>\n",
       "      <td>1.330377</td>\n",
       "      <td>False</td>\n",
       "    </tr>\n",
       "  </tbody>\n",
       "</table>\n",
       "<p>1741 rows × 5 columns</p>\n",
       "</div>"
      ],
      "text/plain": [
       "      encounter_id  time_d           name     value  death\n",
       "0      36802471722     1.0  Cardiac Power  1.490022  False\n",
       "1      36806575047     1.0  Cardiac Power  0.880044  False\n",
       "2      36806575047     2.0  Cardiac Power  0.543459  False\n",
       "3      36864529454     1.0  Cardiac Power  0.599335  False\n",
       "4      36893446239     1.0  Cardiac Power  0.504878  False\n",
       "...            ...     ...            ...       ...    ...\n",
       "1736  167845267514     5.0  Cardiac Power  0.871428  False\n",
       "1737  169437660419     1.0  Cardiac Power  1.515299  False\n",
       "1738  169887752836     1.0  Cardiac Power  0.918071  False\n",
       "1739  169887752836     2.0  Cardiac Power  0.819512  False\n",
       "1740  169906456092     1.0  Cardiac Power  1.330377  False\n",
       "\n",
       "[1741 rows x 5 columns]"
      ]
     },
     "execution_count": 45,
     "metadata": {},
     "output_type": "execute_result"
    }
   ],
   "source": [
    "cpo_d = melt_tidy(cpo_pv,t='time_d')\n",
    "cpo_d = cpo_d.merge(pc.mortality, on='encounter_id', how='left')\n",
    "cpo_d.time_d = cpo_d.time_d/np.timedelta64(1,'D')\n",
    "cpo_d"
   ]
  }
 ],
 "metadata": {
  "kernelspec": {
   "display_name": "Python 3 (ipykernel)",
   "language": "python",
   "name": "python3"
  },
  "language_info": {
   "codemirror_mode": {
    "name": "ipython",
    "version": 3
   },
   "file_extension": ".py",
   "mimetype": "text/x-python",
   "name": "python",
   "nbconvert_exporter": "python",
   "pygments_lexer": "ipython3",
   "version": "3.8.12"
  }
 },
 "nbformat": 4,
 "nbformat_minor": 5
}
