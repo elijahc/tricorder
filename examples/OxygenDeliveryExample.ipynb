{
 "cells": [
  {
   "cell_type": "code",
   "execution_count": null,
   "id": "d84217b1",
   "metadata": {},
   "outputs": [],
   "source": [
    "import pandas as pd\n",
    "import seaborn as sns\n",
    "import matplotlib.pyplot as plt\n",
    "import numpy as np\n",
    "from src.cohort_metrics import Metric, tidy_flow, tidy_labs, OxygenContent, OxygenDelivery,OxygenConsumption\n",
    "from src.utils import rebin_time, tidy_meds\n",
    "from scipy import integrate\n",
    "# from src.cohort import CohortMetrics\n",
    "from src.swan import SWAN\n",
    "from tricorder.procedure_codesets import cabg_names, aortic_names, valve_surgeries\n",
    "from src.cohort import ProcedureCohort\n",
    "import matplotlib.pyplot as plt\n",
    "from tqdm.auto import tqdm\n",
    "from pandas_profiling import ProfileReport"
   ]
  },
  {
   "cell_type": "code",
   "execution_count": null,
   "id": "a28c0ad5",
   "metadata": {},
   "outputs": [],
   "source": [
    "swan = SWAN('/Users/elijahc/data/compass/SWAN/')\n",
    "# eids = swan.procedures.sel(order_name=cabg_names).encounter_id.unique()"
   ]
  },
  {
   "cell_type": "markdown",
   "id": "b0ec2cea-4a08-4e18-8718-a96f3df5a7fa",
   "metadata": {},
   "source": [
    "$C_{a}O_2 = 1.34 \\cdot Hgb \\cdot O_2Sat_a$\n",
    "\n",
    "$C_{v}O_2 = 1.34 \\cdot Hgb \\cdot O_2Sat_v$"
   ]
  },
  {
   "cell_type": "code",
   "execution_count": null,
   "id": "a95f0762-d2c1-40ac-b4d6-9383b8fca490",
   "metadata": {},
   "outputs": [],
   "source": [
    "pc = swan.create_procedure_cohort(procedures=cabg_names+aortic_names+valve_surgeries)\n",
    "pc.add_continuous_metric(OxygenConsumption)\n",
    "pc.add_continuous_metric(OxygenDelivery)"
   ]
  },
  {
   "cell_type": "code",
   "execution_count": null,
   "id": "6d92a858-489e-4687-bfdf-9e858c25ea8a",
   "metadata": {},
   "outputs": [],
   "source": [
    "pc.mechanical_ventilation_duration"
   ]
  },
  {
   "cell_type": "code",
   "execution_count": null,
   "id": "1f144b36-08f6-4860-8eb5-aebaf905929e",
   "metadata": {},
   "outputs": [],
   "source": [
    "od = pc.metrics.OxygenDelivery.compute(sample=30)\n",
    "od = pc.align_metric(od)"
   ]
  },
  {
   "cell_type": "code",
   "execution_count": null,
   "id": "377d2190-046a-43ce-9306-8be9c0e5d9d0",
   "metadata": {},
   "outputs": [],
   "source": [
    "%matplotlib inline"
   ]
  },
  {
   "cell_type": "code",
   "execution_count": null,
   "id": "92d21164-16e8-45bd-af22-6d1b7f1d0474",
   "metadata": {},
   "outputs": [],
   "source": [
    "df = rebin_time(od,on='q8h').query('btime > -1 & btime < 100')\n",
    "df = df.merge(pc.get_post_op_delirium(detail='encounter'),on='encounter_id',how='left')\n",
    "df = df.query('name == \"DO2_I\"')\n",
    "df = df.groupby(['post_op_delirium','encounter_id','btime']).value.agg('mean').reset_index()\n",
    "df"
   ]
  },
  {
   "cell_type": "code",
   "execution_count": null,
   "id": "6ced013f-1658-4c92-85f2-b16f20ec9767",
   "metadata": {},
   "outputs": [],
   "source": [
    "g = sns.lineplot(x='btime',y='value',hue='post_op_delirium',data=df)\n",
    "g.set_ylabel('DO2')\n",
    "g.set_xlabel('hours')"
   ]
  },
  {
   "cell_type": "code",
   "execution_count": null,
   "id": "73623bf4-d157-48ad-8f77-019abc844965",
   "metadata": {},
   "outputs": [],
   "source": [
    "sns.set_style('whitegrid')\n",
    "btimes = df.groupby(['btime','post_op_delirium']).agg({'encounter_id':'nunique'}).reset_index()\n",
    "g = sns.barplot(data=btimes,x='btime',y='encounter_id',hue='post_op_delirium',dodge=False)\n",
    "g.set_ylabel('Num unique encounters')"
   ]
  },
  {
   "cell_type": "code",
   "execution_count": null,
   "id": "0b68e72f-687f-4c8a-9a6a-3a141482d150",
   "metadata": {},
   "outputs": [],
   "source": [
    "# swan.transfusion.search('TRANSFUSE RBC:')\n",
    "swan.transfusion.search('TRANSFUSE PLATELETS:').values.tolist()"
   ]
  },
  {
   "cell_type": "code",
   "execution_count": null,
   "id": "4884f013-9178-41ad-9f48-e8b08ae13e85",
   "metadata": {},
   "outputs": [],
   "source": [
    "bp = swan.transfusion.sel(\n",
    "    transfusion_name=swan.transfusion.search('TRANSFUSE RBC:'), \n",
    "    # transfusion_name=swan.transfusion.search('ANE'), \n",
    "    # transfusion_name=['TRANSFUSE RBC'],\n",
    "    encounter_id=pc.eid)\n",
    "bp.number_of_units = bp.number_of_units.apply(lambda s: s.split(' ')[0]).astype(int)\n",
    "bp.transfu\n",
    "# bp.number_of_units = \n",
    "# bp.groupby(['encounter_id','transfusion_name']).number_of_units.value_counts()"
   ]
  },
  {
   "cell_type": "code",
   "execution_count": null,
   "id": "4c36f8c1-bc5a-4ab2-a175-e2e59006c9b4",
   "metadata": {},
   "outputs": [],
   "source": [
    "pc.procedure_info"
   ]
  },
  {
   "cell_type": "code",
   "execution_count": null,
   "id": "00196349-131b-45ff-835b-5a0714c64383",
   "metadata": {},
   "outputs": [],
   "source": [
    "swan.transfusion.sel(encounter_id=pc.eid).groupby(['encounter_id','transfusion_name']).count()"
   ]
  },
  {
   "cell_type": "code",
   "execution_count": null,
   "id": "ff9a7b54-496d-4a10-88b2-fa91d1336cb8",
   "metadata": {},
   "outputs": [],
   "source": [
    "preop GFR < 60"
   ]
  },
  {
   "cell_type": "code",
   "execution_count": null,
   "id": "16035804-0a1c-4291-b314-4fb923ae4e31",
   "metadata": {},
   "outputs": [],
   "source": [
    "pressers = ['EPINEPHRINE','PHENYLEPHRINE','VASOPRESSIN','DOPAMINE','DOBUTAMINE']\n",
    "seds = ['PROPOFOL','FENTANYL','MIDAZOLAM','DEXMEDETOMIDINE']\n",
    "m_names = swan.flowsheet.search('VOLUME (ML) ')"
   ]
  },
  {
   "cell_type": "code",
   "execution_count": null,
   "id": "682b78c9-7431-4535-b898-b0449ead6933",
   "metadata": {},
   "outputs": [],
   "source": [
    "m_names = [n for n in m_names if n.split('VOLUME (ML)')[1].strip() in pressers]\n",
    "meds = tidy_flow(swan.flowsheet.sel(display_name=m_names,encounter_id=pc.eid))\n",
    "meds = pc.align_metric(meds)\n",
    "meds.time = meds.time / np.timedelta64(1,'D')*24\n",
    "meds = meds.query('time < 36 & time > 0')\n",
    "tot_meds = meds.groupby(['encounter_id','name']).value.sum().reset_index()\n",
    "tot_meds = df[['encounter_id','post_op_delirium']].drop_duplicates().merge(tot_meds,on='encounter_id',how='left')\n",
    "sns.set(rc={'figure.figsize':(15,8)})\n",
    "sns.set_style('whitegrid')\n",
    "sns.boxplot(y='name',x='value',hue='post_op_delirium',data=tot_meds)"
   ]
  },
  {
   "cell_type": "code",
   "execution_count": null,
   "id": "f0e4e48d-cf18-427d-8e7e-1424a3be5e21",
   "metadata": {},
   "outputs": [],
   "source": [
    "s_names = [n for n in m_names if n.split('VOLUME (ML)')[1].strip() in seds]\n",
    "meds = tidy_flow(swan.flowsheet.sel(display_name=s_names, encounter_id=pc.eid))\n",
    "meds = pc.align_metric(meds)\n",
    "meds.time = meds.time / np.timedelta64(1,'D')*24\n",
    "meds = meds.query('time < 38 & time > 0')\n",
    "tot_meds = meds.groupby(['encounter_id','name']).value.sum().reset_index()\n",
    "tot_meds = df[['encounter_id','post_op_delirium']].drop_duplicates().merge(tot_meds,on='encounter_id',how='left')\n",
    "sns.set(rc={'figure.figsize':(15,8)})\n",
    "sns.set_style('whitegrid')\n",
    "sns.stripplot(y='name',x='value',dodge=True, hue='post_op_delirium',data=tot_meds)"
   ]
  },
  {
   "cell_type": "code",
   "execution_count": null,
   "id": "e3dc9bb3-2943-4071-a3a4-6200d7304b1b",
   "metadata": {},
   "outputs": [],
   "source": [
    "sorted(swan.flowsheet.unique().tolist())"
   ]
  },
  {
   "cell_type": "code",
   "execution_count": null,
   "id": "797375eb-e5d6-4dd8-8141-48c35fff906e",
   "metadata": {},
   "outputs": [],
   "source": []
  },
  {
   "cell_type": "code",
   "execution_count": null,
   "id": "84665ac0-af91-4693-9cd4-4da5e2046c23",
   "metadata": {},
   "outputs": [],
   "source": [
    "from scipy import integrate\n"
   ]
  },
  {
   "cell_type": "code",
   "execution_count": null,
   "id": "917e9081-1380-44bb-a9ff-907a2bdfe519",
   "metadata": {},
   "outputs": [],
   "source": []
  },
  {
   "cell_type": "code",
   "execution_count": null,
   "id": "cab2194a-67b0-4c23-8db0-d11f53cdbf8c",
   "metadata": {},
   "outputs": [],
   "source": [
    "seds = ['DEXMEDETOMIDINE','PROPOFOL','FENTANYL','MIDAZOLAM','KETAMINE']\n",
    "med_n = []\n",
    "for n in seds:\n",
    "    med_n += swan.medications.search(n).values.tolist()\n",
    "med_n\n",
    "m = tidy_meds(swan.medications.sel(medication_name=med_n,encounter_id=pc.eid))\n",
    "m = pc.align_metric(m)\n",
    "m['hours'] = m.time/np.timedelta64(1,'D')*24\n",
    "m_seds = m.query('hours <= 36 & hours >= 12').groupby(['name','encounter_id']).apply(lambda d: integrate.trapezoid(y=d.value,x=d.hours)).rename('dose').reset_index()\n",
    "m_seds.name = m_seds.name.apply(lambda s: s.split(' ')[0])\n",
    "m_seds = pc.get_post_op_delirium(detail='encounter').merge(m_seds, on='encounter_id', how='left')\n",
    "m_seds.name.value_counts()"
   ]
  },
  {
   "cell_type": "code",
   "execution_count": null,
   "id": "e93bf22b-365d-4d42-9435-852be028a74c",
   "metadata": {},
   "outputs": [],
   "source": [
    "hct = pc.labs(names=['HEMATOCRIT'])\n",
    "hct = pc.align_metric(hct,pc.icu_start)\n",
    "hct.groupby('encounter_id').apply(lambda d: d.sort_values(by='time').set_index('time').value.values[0])\n",
    "# hct.time = hct.time/np.timedelta64(1,'D')"
   ]
  },
  {
   "cell_type": "code",
   "execution_count": null,
   "id": "4ab70b47-eee1-47b0-8e78-9071537919e0",
   "metadata": {},
   "outputs": [],
   "source": [
    "sns.catplot(y='dose',col='name',x='post_op_delirium',data=m_seds.query('dose > 0 & dose < 4000'),kind='box',sharey=False)"
   ]
  },
  {
   "cell_type": "code",
   "execution_count": null,
   "id": "7a1cec43-9a65-4607-ba8f-8e4b271becdc",
   "metadata": {},
   "outputs": [],
   "source": [
    "swan.flowsheet.sel(display_name=['WEIGHT','HEIGHT'], encounter_id=pc.eid).groupby('encounter_id').display_name.value_counts().rename('count').reset_index()"
   ]
  },
  {
   "cell_type": "code",
   "execution_count": null,
   "id": "b47b7743-953c-4a67-9402-53a704bc9607",
   "metadata": {},
   "outputs": [],
   "source": [
    "data=swan.flowsheet.sel(display_name=['WEIGHT','HEIGHT'],encounter_id=pc.eid).groupby('encounter_id').display_name.value_counts().rename('count').reset_index()"
   ]
  },
  {
   "cell_type": "code",
   "execution_count": null,
   "id": "be04b006-cc3e-4c52-b4cc-d844ac4872ae",
   "metadata": {},
   "outputs": [],
   "source": [
    "sns.histplot(data=swan.flowsheet.sel(display_name=['WEIGHT','HEIGHT'],encounter_id=pc.eid).groupby('encounter_id').display_name.value_counts().rename('count').reset_index(),\n",
    "            x='display_name',multiple='dodge',element='bars',\n",
    "           )"
   ]
  },
  {
   "cell_type": "code",
   "execution_count": null,
   "id": "bdbf9ec9-37b4-492e-940c-7c0ff29633cc",
   "metadata": {},
   "outputs": [],
   "source": [
    "pc.get_post_op_delirium(detail='encounter')"
   ]
  },
  {
   "cell_type": "code",
   "execution_count": null,
   "id": "753f24fc-50b7-437a-899c-6f037307cfee",
   "metadata": {},
   "outputs": [],
   "source": [
    "dat = od['DO2_I'].reset_index()\n",
    "\n",
    "dat = dat.merge(pc.mortality, on='encounter_id', how='left')\n",
    "dat = dat.merge(pc.offset, on='encounter_id')\n",
    "dat['rhour'] = dat['hour'] - (dat['offset']*24)\n",
    "dat"
   ]
  },
  {
   "cell_type": "code",
   "execution_count": null,
   "id": "ddfa875b-109e-4c65-a3c9-996741bdcd12",
   "metadata": {},
   "outputs": [],
   "source": [
    "dat = dat.rename(columns={'death':'mortality'})\n",
    "dat['mortality'] = dat.mortality.replace({True:'Non-Survivors',False:'Survivors'})"
   ]
  },
  {
   "cell_type": "code",
   "execution_count": null,
   "id": "3d6a82d7-9ed4-4085-8c7e-c82d7a18a525",
   "metadata": {},
   "outputs": [],
   "source": [
    "swan.labs.search('')"
   ]
  },
  {
   "cell_type": "code",
   "execution_count": null,
   "id": "a3ad2c99-f1eb-476d-865f-199e0bab8028",
   "metadata": {},
   "outputs": [],
   "source": [
    "fig, axs = plt.subplots(1,2,figsize=(16,4))\n",
    "y='DO2_I'\n",
    "y_u = y+' ({})'.format(OxygenDelivery.units[y])\n",
    "dat = dat.rename(columns={y:y_u})\n",
    "g = sns.lineplot(\n",
    "    x='rhour',\n",
    "    y=y_u,\n",
    "    hue='mortality',data=dat, ax=axs[0])\n",
    "g.set_xlim(-24,24*5)\n",
    "\n",
    "sns.histplot(x=y_u, hue='mortality',data=dat.query('hour >= 18'),\n",
    "         common_norm=False,stat='probability', ax=axs[1])"
   ]
  },
  {
   "cell_type": "code",
   "execution_count": null,
   "id": "11365028-781d-4710-9275-ced2f2ce5aa2",
   "metadata": {},
   "outputs": [],
   "source": []
  },
  {
   "cell_type": "code",
   "execution_count": null,
   "id": "126310ab-022d-4146-be8d-5275bed6c867",
   "metadata": {},
   "outputs": [],
   "source": [
    "asfd"
   ]
  },
  {
   "cell_type": "code",
   "execution_count": null,
   "id": "193f7e8d-e4bb-4d10-aedc-4ad3d452beaa",
   "metadata": {},
   "outputs": [],
   "source": [
    "pc.offset"
   ]
  },
  {
   "cell_type": "code",
   "execution_count": null,
   "id": "d0867293-7418-4581-be14-92d4d53cdb85",
   "metadata": {},
   "outputs": [],
   "source": [
    "f= tidy_flow(swan.flowsheet.sel(display_name=['CARDIAC OUTPUT','CCO'],encounter_id=eids))"
   ]
  },
  {
   "cell_type": "code",
   "execution_count": null,
   "id": "fe6dcf87-7156-4c2a-a518-0cd5ecd6e88c",
   "metadata": {},
   "outputs": [],
   "source": [
    "f['day'] = f.time / np.timedelta64(1,'D')\n",
    "\n",
    "f['hour'] = (f.day*24).round().astype(int)\n",
    "f['hour'] = pd.to_timedelta(f.hour-f.hour.min(), unit='hour')"
   ]
  },
  {
   "cell_type": "code",
   "execution_count": null,
   "id": "b83f6ab1-c001-469c-acd3-c4084806611b",
   "metadata": {},
   "outputs": [],
   "source": [
    "f.groupby(['encounter_id','hour','name']).mean()"
   ]
  },
  {
   "cell_type": "code",
   "execution_count": null,
   "id": "c7c347b6-d742-470d-a4f2-c00bb3e7b4b7",
   "metadata": {},
   "outputs": [],
   "source": [
    "do.compute(100).head(100)"
   ]
  },
  {
   "cell_type": "code",
   "execution_count": null,
   "id": "f903d0c2-dfc6-446e-a0e6-e0b4e18493ba",
   "metadata": {},
   "outputs": [],
   "source": [
    "class RespiratoryQuotient(Metric):\n",
    "    REQUIRES = {\n",
    "        'labs':['TCO2 VENOUS','TCO2 ARTERIAL','O2SAT ARTERIAL MEASURED','O2SAT VENOUS MEASURED'],\n",
    "    }\n",
    "    \n",
    "    def requires(self):\n",
    "        pass\n",
    "    \n",
    "rq = RespiratoryQuotient(db=swan, encounter_id=eids)"
   ]
  },
  {
   "cell_type": "code",
   "execution_count": null,
   "id": "247d766c-dc5a-4ffc-8325-791af08947a3",
   "metadata": {},
   "outputs": [],
   "source": [
    "rq.db_sample(2).groupby(['encounter_id','name']).mean()"
   ]
  },
  {
   "cell_type": "code",
   "execution_count": null,
   "id": "3d2ca70d-700c-48a2-8940-8e8fdce2b637",
   "metadata": {},
   "outputs": [],
   "source": [
    "rq.db_fetch().encounter_id.unique()"
   ]
  },
  {
   "cell_type": "code",
   "execution_count": null,
   "id": "58682460",
   "metadata": {},
   "outputs": [],
   "source": [
    "cao2 = OxygenContent(swan,encounter_id=eids)\n",
    "# eids = cao2.db_fetch().encounter_id.drop_duplicates().sample(500)\n",
    "# cao2 = OxygenContent(swan, encounter_id=eids)"
   ]
  },
  {
   "cell_type": "code",
   "execution_count": null,
   "id": "da4edefb",
   "metadata": {},
   "outputs": [],
   "source": [
    "df = cao2.compute_oxygen_content_AV(sample=5, with_delivery=True)\n",
    "# df['DO2'] = df.groupby(level='encounter_id').apply(lambda d: d.CaO2.interpolate()*d.CCO.interpolate()).values\n",
    "df"
   ]
  },
  {
   "cell_type": "code",
   "execution_count": null,
   "id": "5ad5175c",
   "metadata": {},
   "outputs": [],
   "source": [
    "df_long = pd.melt(df.reset_index(),id_vars=['encounter_id','hour'],value_vars=['CCO','CaO2','CvO2','DO2'],var_name='name')\n",
    "\n",
    "sns.catplot(col='name',x='hour',y='value',hue='name',data=df_long)"
   ]
  },
  {
   "cell_type": "code",
   "execution_count": null,
   "id": "e1a46761",
   "metadata": {},
   "outputs": [],
   "source": [
    "from tricorder.cohort import ProcedureCohort"
   ]
  },
  {
   "cell_type": "code",
   "execution_count": null,
   "id": "6aaf1853",
   "metadata": {},
   "outputs": [],
   "source": [
    "swan.procedures.cohort(names=)"
   ]
  },
  {
   "cell_type": "code",
   "execution_count": null,
   "id": "8fc1c39e",
   "metadata": {},
   "outputs": [],
   "source": [
    "pc.mortality"
   ]
  },
  {
   "cell_type": "code",
   "execution_count": null,
   "id": "29dc6516",
   "metadata": {},
   "outputs": [],
   "source": [
    "ca = ca.merge(pc.mortality, on='encounter_id', how='left')"
   ]
  },
  {
   "cell_type": "code",
   "execution_count": null,
   "id": "878f2c52",
   "metadata": {},
   "outputs": [],
   "source": [
    "tc = swan.labs.sel(lab_component_name=['TCO2 VENOUS','TCO2 ARTERIAL'], encounter_id=eids)"
   ]
  },
  {
   "cell_type": "code",
   "execution_count": null,
   "id": "0d252434",
   "metadata": {},
   "outputs": [],
   "source": [
    "tc = tidy_labs(tc)"
   ]
  },
  {
   "cell_type": "code",
   "execution_count": null,
   "id": "d082e41c-8e10-4023-9050-d7a784eb84a9",
   "metadata": {},
   "outputs": [],
   "source": []
  },
  {
   "cell_type": "code",
   "execution_count": null,
   "id": "efe7c3c2",
   "metadata": {},
   "outputs": [],
   "source": [
    "tc = tc.sort_values(['encounter_id','time'])\n",
    "tc['hour'] = (tc.time/np.timedelta64(1,'D') * 24).round().astype(int)\n",
    "tc['rhour'] = tc.groupby('encounter_id').apply(lambda d: d.hour - d.hour.min()).values\n",
    "\n",
    "freqh = 12\n",
    "bn = np.arange(-1,tc.rhour.max(),freqh)\n",
    "labels = np.arange(freqh,tc.rhour.max(),freqh)\n",
    "tc['rhour_b'] = pd.cut(tc.rhour,bins=bn,\n",
    "                       labels=labels,\n",
    "                      )\n",
    "tc_pv = pd.pivot_table(index=['encounter_id','rhour_b'],values='value', aggfunc='mean', columns='name',data=tc)\n",
    "tc_pv = tc_pv.reset_index()"
   ]
  },
  {
   "cell_type": "code",
   "execution_count": null,
   "id": "5c3c3b52-2141-4e6e-9eda-16782082a867",
   "metadata": {},
   "outputs": [],
   "source": [
    "tc_pv.head()"
   ]
  },
  {
   "cell_type": "code",
   "execution_count": null,
   "id": "af2abbc0",
   "metadata": {},
   "outputs": [],
   "source": [
    "sns.lineplot(x='rhour_b',y='TCO2 ARTERIAL', data=tc_pv)"
   ]
  },
  {
   "cell_type": "code",
   "execution_count": null,
   "id": "e700b600-ae94-44d5-85a2-27a1a3709a25",
   "metadata": {},
   "outputs": [],
   "source": [
    "tc_pv"
   ]
  },
  {
   "cell_type": "code",
   "execution_count": null,
   "id": "8012cf31",
   "metadata": {},
   "outputs": [],
   "source": [
    "tc_pv = tc_pv.merge(pc.mortality, on='encounter_id', how='left')\n",
    "sns.scatterplot(x='rhour_b',y='TCO2 ARTERIAL', hue='death',data=tc_pv)"
   ]
  },
  {
   "cell_type": "code",
   "execution_count": null,
   "id": "b678bdf8",
   "metadata": {},
   "outputs": [],
   "source": [
    "binned.query('name == \"TCO2 VENOUS\"')"
   ]
  },
  {
   "cell_type": "code",
   "execution_count": null,
   "id": "299a09cf",
   "metadata": {},
   "outputs": [],
   "source": [
    "swan.labs.search('TC')"
   ]
  },
  {
   "cell_type": "code",
   "execution_count": null,
   "id": "318c3979",
   "metadata": {},
   "outputs": [],
   "source": [
    "swan.labs.search('BIC')"
   ]
  },
  {
   "cell_type": "code",
   "execution_count": null,
   "id": "e75ce799",
   "metadata": {},
   "outputs": [],
   "source": [
    "sns.displot(col='death', x='value', hue='name',data=ca,)"
   ]
  },
  {
   "cell_type": "code",
   "execution_count": null,
   "id": "d5b027a0",
   "metadata": {},
   "outputs": [],
   "source": [
    "c2 = ca.set_index(pd.to_timedelta(ca.rday.values,unit='D')).sort_index()\n",
    "c2"
   ]
  },
  {
   "cell_type": "code",
   "execution_count": null,
   "id": "3afb0b0e",
   "metadata": {},
   "outputs": [],
   "source": [
    "c2['rday_b'] = pd.cut(c2.rday.values,np.arange(-0.5,c2.rday.round().max(),0.5),labels=False)"
   ]
  },
  {
   "cell_type": "code",
   "execution_count": null,
   "id": "26793cfb",
   "metadata": {},
   "outputs": [],
   "source": [
    "enc = c2.encounter_id.drop_duplicates().sample(1)\n",
    "dat=c2[c2.encounter_id.isin(enc)]\n",
    "sns.scatterplot(x='rday_b',y='value',hue='name',data=dat)"
   ]
  },
  {
   "cell_type": "code",
   "execution_count": null,
   "id": "9058c0ed",
   "metadata": {},
   "outputs": [],
   "source": [
    "ca.groupby(['encounter_id','name']).count()"
   ]
  },
  {
   "cell_type": "code",
   "execution_count": null,
   "id": "768dc9c8",
   "metadata": {},
   "outputs": [],
   "source": [
    "ca.groupby('encounter_id').count()"
   ]
  },
  {
   "cell_type": "code",
   "execution_count": null,
   "id": "74eba536",
   "metadata": {},
   "outputs": [],
   "source": [
    "cao2.db_fetch().name.value_counts()"
   ]
  },
  {
   "cell_type": "code",
   "execution_count": null,
   "id": "699bf904",
   "metadata": {},
   "outputs": [],
   "source": [
    "df = cao2.db_fetch(sample=1)"
   ]
  },
  {
   "cell_type": "code",
   "execution_count": null,
   "id": "9a9a5991",
   "metadata": {},
   "outputs": [],
   "source": [
    "df[df.name.str.contains('HEMOGLOBIN')]"
   ]
  },
  {
   "cell_type": "code",
   "execution_count": null,
   "id": "15ac42e3",
   "metadata": {},
   "outputs": [],
   "source": [
    "df.name.unique()"
   ]
  },
  {
   "cell_type": "code",
   "execution_count": null,
   "id": "aa43fb30",
   "metadata": {},
   "outputs": [],
   "source": [
    "cao2.db_fetch().groupby(['encounter_id','time','name']).count()"
   ]
  },
  {
   "cell_type": "code",
   "execution_count": null,
   "id": "8d459712",
   "metadata": {},
   "outputs": [],
   "source": [
    "l_e = swan.labs.sel(lab_component_name=cao2.lab_names).encounter_id.unique()"
   ]
  },
  {
   "cell_type": "code",
   "execution_count": null,
   "id": "3c6c73ec",
   "metadata": {},
   "outputs": [],
   "source": [
    "f_e = swan.flowsheet.sel(display_name=['CCI']).encounter_id.unique()"
   ]
  },
  {
   "cell_type": "code",
   "execution_count": null,
   "id": "d8c759d8",
   "metadata": {},
   "outputs": [],
   "source": [
    "len(np.intersect1d(l_e,f_e))"
   ]
  },
  {
   "cell_type": "code",
   "execution_count": null,
   "id": "c4ebf6ce",
   "metadata": {},
   "outputs": [],
   "source": [
    "swan.labs.search('O2')"
   ]
  },
  {
   "cell_type": "code",
   "execution_count": null,
   "id": "ea41ac75",
   "metadata": {},
   "outputs": [],
   "source": [
    "eids = hgb.encounter_id.value_counts().index.intersection(sao2.encounter_id.value_counts().index)"
   ]
  },
  {
   "cell_type": "code",
   "execution_count": null,
   "id": "a88b1e00",
   "metadata": {},
   "outputs": [],
   "source": [
    "sao2.encounter_id.value_counts()"
   ]
  },
  {
   "cell_type": "code",
   "execution_count": null,
   "id": "74006369",
   "metadata": {},
   "outputs": [],
   "source": [
    "sao2 = swan.labs.sel(lab_component_name=['FIO2','O2SAT ARTERIAL MEASURED'])\n",
    "sao2\n",
    "# sao2.query('encounter_id == 169906456092')"
   ]
  },
  {
   "cell_type": "code",
   "execution_count": null,
   "id": "547d341f",
   "metadata": {},
   "outputs": [],
   "source": [
    "sns.lineplot(\n",
    "#     x='lab_collection_days_since_birth',\n",
    "    x='hours',\n",
    "    y='value',hue='name',data=hgb.query('encounter_id == 169906456092'))"
   ]
  },
  {
   "cell_type": "code",
   "execution_count": null,
   "id": "7f3ba043",
   "metadata": {},
   "outputs": [],
   "source": [
    "hgb.groupby('lab_component_name').count()"
   ]
  },
  {
   "cell_type": "code",
   "execution_count": null,
   "id": "b3eb089e",
   "metadata": {},
   "outputs": [],
   "source": [
    "swan.labs.unique().tolist()"
   ]
  },
  {
   "cell_type": "code",
   "execution_count": null,
   "id": "ad7ed1e8",
   "metadata": {},
   "outputs": [],
   "source": []
  },
  {
   "cell_type": "code",
   "execution_count": null,
   "id": "948f5e8f",
   "metadata": {},
   "outputs": [],
   "source": [
    "swan.flowsheet.search('O2')"
   ]
  },
  {
   "cell_type": "code",
   "execution_count": null,
   "id": "35db238e",
   "metadata": {},
   "outputs": [],
   "source": [
    "swan.flowsheet.sel(display_name=['PAP'])"
   ]
  },
  {
   "cell_type": "code",
   "execution_count": null,
   "id": "d152fa6a",
   "metadata": {},
   "outputs": [],
   "source": []
  }
 ],
 "metadata": {
  "kernelspec": {
   "display_name": "Python 3 (ipykernel)",
   "language": "python",
   "name": "python3"
  },
  "language_info": {
   "codemirror_mode": {
    "name": "ipython",
    "version": 3
   },
   "file_extension": ".py",
   "mimetype": "text/x-python",
   "name": "python",
   "nbconvert_exporter": "python",
   "pygments_lexer": "ipython3",
   "version": "3.8.12"
  }
 },
 "nbformat": 4,
 "nbformat_minor": 5
}
