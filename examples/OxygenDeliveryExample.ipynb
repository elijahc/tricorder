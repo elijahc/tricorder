{
 "cells": [
  {
   "cell_type": "code",
   "execution_count": 1,
   "id": "d84217b1",
   "metadata": {},
   "outputs": [],
   "source": [
    "import pandas as pd\n",
    "import seaborn as sns\n",
    "import matplotlib.pyplot as plt\n",
    "import numpy as np\n",
    "from src.outcome_metrics import Metric, tidy_flow, tidy_labs, OxygenContent, OxygenDelivery\n",
    "# from src.cohort import CohortMetrics\n",
    "from src.swan import SWAN\n",
    "from tricorder.procedure_codesets import cabg_names\n",
    "from src.cohort import ProcedureCohort\n",
    "import matplotlib.pyplot as plt\n",
    "from tqdm.auto import tqdm"
   ]
  },
  {
   "cell_type": "code",
   "execution_count": 2,
   "id": "a28c0ad5",
   "metadata": {},
   "outputs": [],
   "source": [
    "swan = SWAN('/Users/elijahc/data/compass/SWAN/')\n",
    "eids = swan.procedures.sel(order_name=cabg_names).encounter_id.unique()"
   ]
  },
  {
   "cell_type": "markdown",
   "id": "b0ec2cea-4a08-4e18-8718-a96f3df5a7fa",
   "metadata": {},
   "source": [
    "$C_{a}O_2 = 1.34 \\cdot Hgb \\cdot O_2Sat_a$\n",
    "\n",
    "$C_{v}O_2 = 1.34 \\cdot Hgb \\cdot O_2Sat_v$"
   ]
  },
  {
   "cell_type": "code",
   "execution_count": 3,
   "id": "a95f0762-d2c1-40ac-b4d6-9383b8fca490",
   "metadata": {},
   "outputs": [
    {
     "name": "stdout",
     "output_type": "stream",
     "text": [
      "CohortMetrics\n",
      "- OxygenContent\n",
      "- OxygenDelivery\n"
     ]
    },
    {
     "data": {
      "text/plain": [
       "[OxygenContent, OxygenDelivery]"
      ]
     },
     "execution_count": 3,
     "metadata": {},
     "output_type": "execute_result"
    }
   ],
   "source": [
    "pc = swan.create_procedure_cohort(procedures=cabg_names)\n",
    "pc.add_continuous_metric(OxygenContent)\n",
    "pc.add_continuous_metric(OxygenDelivery)"
   ]
  },
  {
   "cell_type": "code",
   "execution_count": null,
   "id": "0791d152-68a3-4738-b6c5-20a7cbd22d83",
   "metadata": {},
   "outputs": [],
   "source": [
    "# d = do.compute()\n",
    "# d['DO'] = (d['CCO']*d['CaO2'])\n",
    "# d['DO'] = d['DO'].interpolate(limit_direction='forward',limit_area='inside')"
   ]
  },
  {
   "cell_type": "code",
   "execution_count": 24,
   "id": "753f24fc-50b7-437a-899c-6f037307cfee",
   "metadata": {},
   "outputs": [
    {
     "data": {
      "text/html": [
       "<div>\n",
       "<style scoped>\n",
       "    .dataframe tbody tr th:only-of-type {\n",
       "        vertical-align: middle;\n",
       "    }\n",
       "\n",
       "    .dataframe tbody tr th {\n",
       "        vertical-align: top;\n",
       "    }\n",
       "\n",
       "    .dataframe thead th {\n",
       "        text-align: right;\n",
       "    }\n",
       "</style>\n",
       "<table border=\"1\" class=\"dataframe\">\n",
       "  <thead>\n",
       "    <tr style=\"text-align: right;\">\n",
       "      <th></th>\n",
       "      <th>encounter_id</th>\n",
       "      <th>hour</th>\n",
       "      <th>DO2_I</th>\n",
       "      <th>death</th>\n",
       "      <th>offset</th>\n",
       "      <th>rhour</th>\n",
       "    </tr>\n",
       "  </thead>\n",
       "  <tbody>\n",
       "    <tr>\n",
       "      <th>0</th>\n",
       "      <td>36802471722</td>\n",
       "      <td>631312</td>\n",
       "      <td>NaN</td>\n",
       "      <td>False</td>\n",
       "      <td>26304</td>\n",
       "      <td>16</td>\n",
       "    </tr>\n",
       "    <tr>\n",
       "      <th>1</th>\n",
       "      <td>36802471722</td>\n",
       "      <td>631314</td>\n",
       "      <td>NaN</td>\n",
       "      <td>False</td>\n",
       "      <td>26304</td>\n",
       "      <td>18</td>\n",
       "    </tr>\n",
       "    <tr>\n",
       "      <th>2</th>\n",
       "      <td>36802471722</td>\n",
       "      <td>631315</td>\n",
       "      <td>NaN</td>\n",
       "      <td>False</td>\n",
       "      <td>26304</td>\n",
       "      <td>19</td>\n",
       "    </tr>\n",
       "    <tr>\n",
       "      <th>3</th>\n",
       "      <td>36802471722</td>\n",
       "      <td>631316</td>\n",
       "      <td>575.880661</td>\n",
       "      <td>False</td>\n",
       "      <td>26304</td>\n",
       "      <td>20</td>\n",
       "    </tr>\n",
       "    <tr>\n",
       "      <th>4</th>\n",
       "      <td>36802471722</td>\n",
       "      <td>631317</td>\n",
       "      <td>437.762514</td>\n",
       "      <td>False</td>\n",
       "      <td>26304</td>\n",
       "      <td>21</td>\n",
       "    </tr>\n",
       "    <tr>\n",
       "      <th>...</th>\n",
       "      <td>...</td>\n",
       "      <td>...</td>\n",
       "      <td>...</td>\n",
       "      <td>...</td>\n",
       "      <td>...</td>\n",
       "      <td>...</td>\n",
       "    </tr>\n",
       "    <tr>\n",
       "      <th>14458</th>\n",
       "      <td>66116205918</td>\n",
       "      <td>567026</td>\n",
       "      <td>660.567240</td>\n",
       "      <td>False</td>\n",
       "      <td>23625</td>\n",
       "      <td>26</td>\n",
       "    </tr>\n",
       "    <tr>\n",
       "      <th>14459</th>\n",
       "      <td>66116205918</td>\n",
       "      <td>567027</td>\n",
       "      <td>591.591040</td>\n",
       "      <td>False</td>\n",
       "      <td>23625</td>\n",
       "      <td>27</td>\n",
       "    </tr>\n",
       "    <tr>\n",
       "      <th>14460</th>\n",
       "      <td>66116205918</td>\n",
       "      <td>567028</td>\n",
       "      <td>544.399490</td>\n",
       "      <td>False</td>\n",
       "      <td>23625</td>\n",
       "      <td>28</td>\n",
       "    </tr>\n",
       "    <tr>\n",
       "      <th>14461</th>\n",
       "      <td>66116205918</td>\n",
       "      <td>567038</td>\n",
       "      <td>544.399490</td>\n",
       "      <td>False</td>\n",
       "      <td>23625</td>\n",
       "      <td>38</td>\n",
       "    </tr>\n",
       "    <tr>\n",
       "      <th>14462</th>\n",
       "      <td>66116205918</td>\n",
       "      <td>567041</td>\n",
       "      <td>544.399490</td>\n",
       "      <td>False</td>\n",
       "      <td>23625</td>\n",
       "      <td>41</td>\n",
       "    </tr>\n",
       "  </tbody>\n",
       "</table>\n",
       "<p>14463 rows × 6 columns</p>\n",
       "</div>"
      ],
      "text/plain": [
       "       encounter_id    hour       DO2_I  death  offset  rhour\n",
       "0       36802471722  631312         NaN  False   26304     16\n",
       "1       36802471722  631314         NaN  False   26304     18\n",
       "2       36802471722  631315         NaN  False   26304     19\n",
       "3       36802471722  631316  575.880661  False   26304     20\n",
       "4       36802471722  631317  437.762514  False   26304     21\n",
       "...             ...     ...         ...    ...     ...    ...\n",
       "14458   66116205918  567026  660.567240  False   23625     26\n",
       "14459   66116205918  567027  591.591040  False   23625     27\n",
       "14460   66116205918  567028  544.399490  False   23625     28\n",
       "14461   66116205918  567038  544.399490  False   23625     38\n",
       "14462   66116205918  567041  544.399490  False   23625     41\n",
       "\n",
       "[14463 rows x 6 columns]"
      ]
     },
     "execution_count": 24,
     "metadata": {},
     "output_type": "execute_result"
    }
   ],
   "source": [
    "dat = do['DO2_I'].reset_index()\n",
    "\n",
    "dat = dat.merge(pc.mortality, on='encounter_id', how='left')\n",
    "dat = dat.merge(pc.offset, on='encounter_id')\n",
    "dat['rhour'] = dat['hour'] - (dat['offset']*24)\n",
    "dat"
   ]
  },
  {
   "cell_type": "code",
   "execution_count": 25,
   "id": "ddfa875b-109e-4c65-a3c9-996741bdcd12",
   "metadata": {},
   "outputs": [],
   "source": [
    "dat = dat.rename(columns={'death':'mortality'})\n",
    "dat['mortality'] = dat.mortality.replace({True:'Non-Survivors',False:'Survivors'})"
   ]
  },
  {
   "cell_type": "code",
   "execution_count": 30,
   "id": "3d6a82d7-9ed4-4085-8c7e-c82d7a18a525",
   "metadata": {},
   "outputs": [
    {
     "data": {
      "text/plain": [
       "82     APC RESIST WITH REFLEX TO FACTOR V LEIDEN\n",
       "84                APC RESIST W/REFLEX TO FV LEID\n",
       "169                                PCO2 ARTERIAL\n",
       "dtype: object"
      ]
     },
     "execution_count": 30,
     "metadata": {},
     "output_type": "execute_result"
    }
   ],
   "source": [
    "swan.labs.search('')"
   ]
  },
  {
   "cell_type": "code",
   "execution_count": 26,
   "id": "a3ad2c99-f1eb-476d-865f-199e0bab8028",
   "metadata": {},
   "outputs": [
    {
     "data": {
      "text/plain": [
       "<AxesSubplot:xlabel='DO2_I (mL/min/m^2)', ylabel='Probability'>"
      ]
     },
     "execution_count": 26,
     "metadata": {},
     "output_type": "execute_result"
    },
    {
     "data": {
      "image/png": "[encoded data removed]",
      "text/plain": [
       "<Figure size 1152x288 with 2 Axes>"
      ]
     },
     "metadata": {
      "needs_background": "light"
     },
     "output_type": "display_data"
    }
   ],
   "source": [
    "fig, axs = plt.subplots(1,2,figsize=(16,4))\n",
    "y='DO2_I'\n",
    "y_u = y+' ({})'.format(OxygenDelivery.units[y])\n",
    "dat = dat.rename(columns={y:y_u})\n",
    "g = sns.lineplot(\n",
    "    x='rhour',\n",
    "    y=y_u,\n",
    "    hue='mortality',data=dat, ax=axs[0])\n",
    "g.set_xlim(-24,24*5)\n",
    "\n",
    "sns.histplot(x=y_u, hue='mortality',data=dat.query('hour >= 18'),\n",
    "         common_norm=False,stat='probability', ax=axs[1])"
   ]
  },
  {
   "cell_type": "code",
   "execution_count": null,
   "id": "11365028-781d-4710-9275-ced2f2ce5aa2",
   "metadata": {},
   "outputs": [],
   "source": []
  },
  {
   "cell_type": "code",
   "execution_count": null,
   "id": "126310ab-022d-4146-be8d-5275bed6c867",
   "metadata": {},
   "outputs": [],
   "source": [
    "asfd"
   ]
  },
  {
   "cell_type": "code",
   "execution_count": null,
   "id": "193f7e8d-e4bb-4d10-aedc-4ad3d452beaa",
   "metadata": {},
   "outputs": [],
   "source": [
    "pc.offset"
   ]
  },
  {
   "cell_type": "code",
   "execution_count": null,
   "id": "d0867293-7418-4581-be14-92d4d53cdb85",
   "metadata": {},
   "outputs": [],
   "source": [
    "f= tidy_flow(swan.flowsheet.sel(display_name=['CARDIAC OUTPUT','CCO'],encounter_id=eids))"
   ]
  },
  {
   "cell_type": "code",
   "execution_count": null,
   "id": "fe6dcf87-7156-4c2a-a518-0cd5ecd6e88c",
   "metadata": {},
   "outputs": [],
   "source": [
    "f['day'] = f.time / np.timedelta64(1,'D')\n",
    "\n",
    "f['hour'] = (f.day*24).round().astype(int)\n",
    "f['hour'] = pd.to_timedelta(f.hour-f.hour.min(), unit='hour')"
   ]
  },
  {
   "cell_type": "code",
   "execution_count": null,
   "id": "b83f6ab1-c001-469c-acd3-c4084806611b",
   "metadata": {},
   "outputs": [],
   "source": [
    "f.groupby(['encounter_id','hour','name']).mean()"
   ]
  },
  {
   "cell_type": "code",
   "execution_count": null,
   "id": "c7c347b6-d742-470d-a4f2-c00bb3e7b4b7",
   "metadata": {},
   "outputs": [],
   "source": [
    "do.compute(100).head(100)"
   ]
  },
  {
   "cell_type": "code",
   "execution_count": null,
   "id": "f903d0c2-dfc6-446e-a0e6-e0b4e18493ba",
   "metadata": {},
   "outputs": [],
   "source": [
    "class RespiratoryQuotient(Metric):\n",
    "    REQUIRES = {\n",
    "        'labs':['TCO2 VENOUS','TCO2 ARTERIAL','O2SAT ARTERIAL MEASURED','O2SAT VENOUS MEASURED'],\n",
    "    }\n",
    "    \n",
    "    def requires(self):\n",
    "        pass\n",
    "    \n",
    "rq = RespiratoryQuotient(db=swan, encounter_id=eids)"
   ]
  },
  {
   "cell_type": "code",
   "execution_count": null,
   "id": "247d766c-dc5a-4ffc-8325-791af08947a3",
   "metadata": {},
   "outputs": [],
   "source": [
    "rq.db_sample(2).groupby(['encounter_id','name']).mean()"
   ]
  },
  {
   "cell_type": "code",
   "execution_count": null,
   "id": "3d2ca70d-700c-48a2-8940-8e8fdce2b637",
   "metadata": {},
   "outputs": [],
   "source": [
    "rq.db_fetch().encounter_id.unique()"
   ]
  },
  {
   "cell_type": "code",
   "execution_count": null,
   "id": "58682460",
   "metadata": {},
   "outputs": [],
   "source": [
    "cao2 = OxygenContent(swan,encounter_id=eids)\n",
    "# eids = cao2.db_fetch().encounter_id.drop_duplicates().sample(500)\n",
    "# cao2 = OxygenContent(swan, encounter_id=eids)"
   ]
  },
  {
   "cell_type": "code",
   "execution_count": null,
   "id": "da4edefb",
   "metadata": {},
   "outputs": [],
   "source": [
    "df = cao2.compute_oxygen_content_AV(sample=5, with_delivery=True)\n",
    "# df['DO2'] = df.groupby(level='encounter_id').apply(lambda d: d.CaO2.interpolate()*d.CCO.interpolate()).values\n",
    "df"
   ]
  },
  {
   "cell_type": "code",
   "execution_count": null,
   "id": "5ad5175c",
   "metadata": {},
   "outputs": [],
   "source": [
    "df_long = pd.melt(df.reset_index(),id_vars=['encounter_id','hour'],value_vars=['CCO','CaO2','CvO2','DO2'],var_name='name')\n",
    "\n",
    "sns.catplot(col='name',x='hour',y='value',hue='name',data=df_long)"
   ]
  },
  {
   "cell_type": "code",
   "execution_count": null,
   "id": "e1a46761",
   "metadata": {},
   "outputs": [],
   "source": [
    "from tricorder.cohort import ProcedureCohort"
   ]
  },
  {
   "cell_type": "code",
   "execution_count": null,
   "id": "6aaf1853",
   "metadata": {},
   "outputs": [],
   "source": [
    "swan.procedures.cohort(names=)"
   ]
  },
  {
   "cell_type": "code",
   "execution_count": null,
   "id": "8fc1c39e",
   "metadata": {},
   "outputs": [],
   "source": [
    "pc.mortality"
   ]
  },
  {
   "cell_type": "code",
   "execution_count": null,
   "id": "29dc6516",
   "metadata": {},
   "outputs": [],
   "source": [
    "ca = ca.merge(pc.mortality, on='encounter_id', how='left')"
   ]
  },
  {
   "cell_type": "code",
   "execution_count": null,
   "id": "878f2c52",
   "metadata": {},
   "outputs": [],
   "source": [
    "tc = swan.labs.sel(lab_component_name=['TCO2 VENOUS','TCO2 ARTERIAL'], encounter_id=eids)"
   ]
  },
  {
   "cell_type": "code",
   "execution_count": null,
   "id": "0d252434",
   "metadata": {},
   "outputs": [],
   "source": [
    "tc = tidy_labs(tc)"
   ]
  },
  {
   "cell_type": "code",
   "execution_count": null,
   "id": "d082e41c-8e10-4023-9050-d7a784eb84a9",
   "metadata": {},
   "outputs": [],
   "source": []
  },
  {
   "cell_type": "code",
   "execution_count": null,
   "id": "efe7c3c2",
   "metadata": {},
   "outputs": [],
   "source": [
    "tc = tc.sort_values(['encounter_id','time'])\n",
    "tc['hour'] = (tc.time/np.timedelta64(1,'D') * 24).round().astype(int)\n",
    "tc['rhour'] = tc.groupby('encounter_id').apply(lambda d: d.hour - d.hour.min()).values\n",
    "\n",
    "freqh = 12\n",
    "bn = np.arange(-1,tc.rhour.max(),freqh)\n",
    "labels = np.arange(freqh,tc.rhour.max(),freqh)\n",
    "tc['rhour_b'] = pd.cut(tc.rhour,bins=bn,\n",
    "                       labels=labels,\n",
    "                      )\n",
    "tc_pv = pd.pivot_table(index=['encounter_id','rhour_b'],values='value', aggfunc='mean', columns='name',data=tc)\n",
    "tc_pv = tc_pv.reset_index()"
   ]
  },
  {
   "cell_type": "code",
   "execution_count": null,
   "id": "5c3c3b52-2141-4e6e-9eda-16782082a867",
   "metadata": {},
   "outputs": [],
   "source": [
    "tc_pv.head()"
   ]
  },
  {
   "cell_type": "code",
   "execution_count": null,
   "id": "af2abbc0",
   "metadata": {},
   "outputs": [],
   "source": [
    "sns.lineplot(x='rhour_b',y='TCO2 ARTERIAL', data=tc_pv)"
   ]
  },
  {
   "cell_type": "code",
   "execution_count": null,
   "id": "e700b600-ae94-44d5-85a2-27a1a3709a25",
   "metadata": {},
   "outputs": [],
   "source": [
    "tc_pv"
   ]
  },
  {
   "cell_type": "code",
   "execution_count": null,
   "id": "8012cf31",
   "metadata": {},
   "outputs": [],
   "source": [
    "tc_pv = tc_pv.merge(pc.mortality, on='encounter_id', how='left')\n",
    "sns.scatterplot(x='rhour_b',y='TCO2 ARTERIAL', hue='death',data=tc_pv)"
   ]
  },
  {
   "cell_type": "code",
   "execution_count": null,
   "id": "b678bdf8",
   "metadata": {},
   "outputs": [],
   "source": [
    "binned.query('name == \"TCO2 VENOUS\"')"
   ]
  },
  {
   "cell_type": "code",
   "execution_count": null,
   "id": "299a09cf",
   "metadata": {},
   "outputs": [],
   "source": [
    "swan.labs.search('TC')"
   ]
  },
  {
   "cell_type": "code",
   "execution_count": null,
   "id": "318c3979",
   "metadata": {},
   "outputs": [],
   "source": [
    "swan.labs.search('BIC')"
   ]
  },
  {
   "cell_type": "code",
   "execution_count": null,
   "id": "e75ce799",
   "metadata": {},
   "outputs": [],
   "source": [
    "sns.displot(col='death', x='value', hue='name',data=ca,)"
   ]
  },
  {
   "cell_type": "code",
   "execution_count": null,
   "id": "d5b027a0",
   "metadata": {},
   "outputs": [],
   "source": [
    "c2 = ca.set_index(pd.to_timedelta(ca.rday.values,unit='D')).sort_index()\n",
    "c2"
   ]
  },
  {
   "cell_type": "code",
   "execution_count": null,
   "id": "3afb0b0e",
   "metadata": {},
   "outputs": [],
   "source": [
    "c2['rday_b'] = pd.cut(c2.rday.values,np.arange(-0.5,c2.rday.round().max(),0.5),labels=False)"
   ]
  },
  {
   "cell_type": "code",
   "execution_count": null,
   "id": "26793cfb",
   "metadata": {},
   "outputs": [],
   "source": [
    "enc = c2.encounter_id.drop_duplicates().sample(1)\n",
    "dat=c2[c2.encounter_id.isin(enc)]\n",
    "sns.scatterplot(x='rday_b',y='value',hue='name',data=dat)"
   ]
  },
  {
   "cell_type": "code",
   "execution_count": null,
   "id": "9058c0ed",
   "metadata": {},
   "outputs": [],
   "source": [
    "ca.groupby(['encounter_id','name']).count()"
   ]
  },
  {
   "cell_type": "code",
   "execution_count": null,
   "id": "768dc9c8",
   "metadata": {},
   "outputs": [],
   "source": [
    "ca.groupby('encounter_id').count()"
   ]
  },
  {
   "cell_type": "code",
   "execution_count": null,
   "id": "74eba536",
   "metadata": {},
   "outputs": [],
   "source": [
    "cao2.db_fetch().name.value_counts()"
   ]
  },
  {
   "cell_type": "code",
   "execution_count": null,
   "id": "699bf904",
   "metadata": {},
   "outputs": [],
   "source": [
    "df = cao2.db_fetch(sample=1)"
   ]
  },
  {
   "cell_type": "code",
   "execution_count": null,
   "id": "9a9a5991",
   "metadata": {},
   "outputs": [],
   "source": [
    "df[df.name.str.contains('HEMOGLOBIN')]"
   ]
  },
  {
   "cell_type": "code",
   "execution_count": null,
   "id": "15ac42e3",
   "metadata": {},
   "outputs": [],
   "source": [
    "df.name.unique()"
   ]
  },
  {
   "cell_type": "code",
   "execution_count": null,
   "id": "aa43fb30",
   "metadata": {},
   "outputs": [],
   "source": [
    "cao2.db_fetch().groupby(['encounter_id','time','name']).count()"
   ]
  },
  {
   "cell_type": "code",
   "execution_count": null,
   "id": "8d459712",
   "metadata": {},
   "outputs": [],
   "source": [
    "l_e = swan.labs.sel(lab_component_name=cao2.lab_names).encounter_id.unique()"
   ]
  },
  {
   "cell_type": "code",
   "execution_count": null,
   "id": "3c6c73ec",
   "metadata": {},
   "outputs": [],
   "source": [
    "f_e = swan.flowsheet.sel(display_name=['CCI']).encounter_id.unique()"
   ]
  },
  {
   "cell_type": "code",
   "execution_count": null,
   "id": "d8c759d8",
   "metadata": {},
   "outputs": [],
   "source": [
    "len(np.intersect1d(l_e,f_e))"
   ]
  },
  {
   "cell_type": "code",
   "execution_count": null,
   "id": "c4ebf6ce",
   "metadata": {},
   "outputs": [],
   "source": [
    "swan.labs.search('O2')"
   ]
  },
  {
   "cell_type": "code",
   "execution_count": null,
   "id": "ea41ac75",
   "metadata": {},
   "outputs": [],
   "source": [
    "eids = hgb.encounter_id.value_counts().index.intersection(sao2.encounter_id.value_counts().index)"
   ]
  },
  {
   "cell_type": "code",
   "execution_count": null,
   "id": "a88b1e00",
   "metadata": {},
   "outputs": [],
   "source": [
    "sao2.encounter_id.value_counts()"
   ]
  },
  {
   "cell_type": "code",
   "execution_count": null,
   "id": "74006369",
   "metadata": {},
   "outputs": [],
   "source": [
    "sao2 = swan.labs.sel(lab_component_name=['FIO2','O2SAT ARTERIAL MEASURED'])\n",
    "sao2\n",
    "# sao2.query('encounter_id == 169906456092')"
   ]
  },
  {
   "cell_type": "code",
   "execution_count": null,
   "id": "547d341f",
   "metadata": {},
   "outputs": [],
   "source": [
    "sns.lineplot(\n",
    "#     x='lab_collection_days_since_birth',\n",
    "    x='hours',\n",
    "    y='value',hue='name',data=hgb.query('encounter_id == 169906456092'))"
   ]
  },
  {
   "cell_type": "code",
   "execution_count": null,
   "id": "7f3ba043",
   "metadata": {},
   "outputs": [],
   "source": [
    "hgb.groupby('lab_component_name').count()"
   ]
  },
  {
   "cell_type": "code",
   "execution_count": null,
   "id": "b3eb089e",
   "metadata": {},
   "outputs": [],
   "source": [
    "swan.labs.unique().tolist()"
   ]
  },
  {
   "cell_type": "code",
   "execution_count": null,
   "id": "ad7ed1e8",
   "metadata": {},
   "outputs": [],
   "source": []
  },
  {
   "cell_type": "code",
   "execution_count": null,
   "id": "948f5e8f",
   "metadata": {},
   "outputs": [],
   "source": [
    "swan.flowsheet.search('O2')"
   ]
  },
  {
   "cell_type": "code",
   "execution_count": null,
   "id": "35db238e",
   "metadata": {},
   "outputs": [],
   "source": [
    "swan.flowsheet.sel(display_name=['PAP'])"
   ]
  },
  {
   "cell_type": "code",
   "execution_count": null,
   "id": "d152fa6a",
   "metadata": {},
   "outputs": [],
   "source": []
  }
 ],
 "metadata": {
  "kernelspec": {
   "display_name": "Python 3 (ipykernel)",
   "language": "python",
   "name": "python3"
  },
  "language_info": {
   "codemirror_mode": {
    "name": "ipython",
    "version": 3
   },
   "file_extension": ".py",
   "mimetype": "text/x-python",
   "name": "python",
   "nbconvert_exporter": "python",
   "pygments_lexer": "ipython3",
   "version": "3.8.12"
  }
 },
 "nbformat": 4,
 "nbformat_minor": 5
}
