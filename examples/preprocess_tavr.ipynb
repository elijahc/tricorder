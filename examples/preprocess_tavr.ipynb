{
 "cells": [
  {
   "cell_type": "code",
   "execution_count": 1,
   "metadata": {},
   "outputs": [
    {
     "name": "stderr",
     "output_type": "stream",
     "text": [
      "/home/elijahc/.pyenv/versions/3.6.1/envs/jupyterlab/lib/python3.6/site-packages/dask/dataframe/utils.py:14: FutureWarning: pandas.util.testing is deprecated. Use the functions in the public API at pandas.testing instead.\n",
      "  import pandas.util.testing as tm\n"
     ]
    }
   ],
   "source": [
    "from src.datasets import TAVR,SWAN"
   ]
  },
  {
   "cell_type": "code",
   "execution_count": 2,
   "metadata": {},
   "outputs": [],
   "source": [
    "tavr = TAVR()\n",
    "swan = SWAN(root_dir='/data/compass/raw/SWAN')"
   ]
  },
  {
   "cell_type": "code",
   "execution_count": 3,
   "metadata": {},
   "outputs": [
    {
     "name": "stdout",
     "output_type": "stream",
     "text": [
      "Loading file: \n",
      " \t/data/compass/raw/TAVR/Table3_Lab.csv\n",
      "cleaning...\n"
     ]
    },
    {
     "name": "stderr",
     "output_type": "stream",
     "text": [
      "/home/elijahc/.pyenv/versions/3.6.1/envs/jupyterlab/lib/python3.6/site-packages/ipykernel_launcher.py:1: DtypeWarning: Columns (5) have mixed types.Specify dtype option on import or set low_memory=False.\n",
      "  \"\"\"Entry point for launching an IPython kernel.\n"
     ]
    },
    {
     "name": "stdout",
     "output_type": "stream",
     "text": [
      "removed 2705 rows\n"
     ]
    },
    {
     "data": {
      "text/html": [
       "<div>\n",
       "<style scoped>\n",
       "    .dataframe tbody tr th:only-of-type {\n",
       "        vertical-align: middle;\n",
       "    }\n",
       "\n",
       "    .dataframe tbody tr th {\n",
       "        vertical-align: top;\n",
       "    }\n",
       "\n",
       "    .dataframe thead th {\n",
       "        text-align: right;\n",
       "    }\n",
       "</style>\n",
       "<table border=\"1\" class=\"dataframe\">\n",
       "  <thead>\n",
       "    <tr style=\"text-align: right;\">\n",
       "      <th></th>\n",
       "      <th>encounter_id</th>\n",
       "      <th>loinc_code</th>\n",
       "      <th>lab_component_name</th>\n",
       "      <th>lab_result_value</th>\n",
       "      <th>lab_result_unit</th>\n",
       "      <th>lab_collection_days_since_birth</th>\n",
       "      <th>lab_collection_time</th>\n",
       "    </tr>\n",
       "  </thead>\n",
       "  <tbody>\n",
       "    <tr>\n",
       "      <th>25287</th>\n",
       "      <td>33598944321</td>\n",
       "      <td>1751-7</td>\n",
       "      <td>ALBUMIN</td>\n",
       "      <td>4.000000</td>\n",
       "      <td>g/dL</td>\n",
       "      <td>32507</td>\n",
       "      <td>14:35:00</td>\n",
       "    </tr>\n",
       "    <tr>\n",
       "      <th>25288</th>\n",
       "      <td>33598944321</td>\n",
       "      <td>4544-3</td>\n",
       "      <td>HEMATOCRIT</td>\n",
       "      <td>34.200001</td>\n",
       "      <td>%</td>\n",
       "      <td>32507</td>\n",
       "      <td>14:35:00</td>\n",
       "    </tr>\n",
       "    <tr>\n",
       "      <th>25290</th>\n",
       "      <td>33598944321</td>\n",
       "      <td>58413-6</td>\n",
       "      <td>NRBC PERCENT</td>\n",
       "      <td>0.000000</td>\n",
       "      <td>%</td>\n",
       "      <td>32507</td>\n",
       "      <td>14:35:00</td>\n",
       "    </tr>\n",
       "    <tr>\n",
       "      <th>25292</th>\n",
       "      <td>33598944321</td>\n",
       "      <td>771-6</td>\n",
       "      <td>NRBC ABSOLUTE</td>\n",
       "      <td>0.000000</td>\n",
       "      <td>10^9/L</td>\n",
       "      <td>32507</td>\n",
       "      <td>14:35:00</td>\n",
       "    </tr>\n",
       "    <tr>\n",
       "      <th>25293</th>\n",
       "      <td>33598944321</td>\n",
       "      <td>777-3</td>\n",
       "      <td>PLATELET COUNT</td>\n",
       "      <td>27.000000</td>\n",
       "      <td>10^9/L</td>\n",
       "      <td>32507</td>\n",
       "      <td>14:35:00</td>\n",
       "    </tr>\n",
       "    <tr>\n",
       "      <th>...</th>\n",
       "      <td>...</td>\n",
       "      <td>...</td>\n",
       "      <td>...</td>\n",
       "      <td>...</td>\n",
       "      <td>...</td>\n",
       "      <td>...</td>\n",
       "      <td>...</td>\n",
       "    </tr>\n",
       "    <tr>\n",
       "      <th>192171</th>\n",
       "      <td>23296033885</td>\n",
       "      <td>71695-1</td>\n",
       "      <td>IMMATURE GRANULOCYTES PERCENT</td>\n",
       "      <td>0.900000</td>\n",
       "      <td>%</td>\n",
       "      <td>9227</td>\n",
       "      <td>9:29:00</td>\n",
       "    </tr>\n",
       "    <tr>\n",
       "      <th>192172</th>\n",
       "      <td>23296033885</td>\n",
       "      <td>53115-2</td>\n",
       "      <td>IMMATURE GRANULOCYTES ABSOLUTE</td>\n",
       "      <td>0.200000</td>\n",
       "      <td>10^9/L</td>\n",
       "      <td>9227</td>\n",
       "      <td>9:29:00</td>\n",
       "    </tr>\n",
       "    <tr>\n",
       "      <th>192173</th>\n",
       "      <td>23296033885</td>\n",
       "      <td>788-0</td>\n",
       "      <td>RED CELL DISTRIBUTION WIDTH CV</td>\n",
       "      <td>13.700000</td>\n",
       "      <td>%</td>\n",
       "      <td>9227</td>\n",
       "      <td>9:29:00</td>\n",
       "    </tr>\n",
       "    <tr>\n",
       "      <th>192174</th>\n",
       "      <td>23296033885</td>\n",
       "      <td>21000-5</td>\n",
       "      <td>RED CELL DISTRIBUTION WIDTH SD</td>\n",
       "      <td>47.200001</td>\n",
       "      <td>fL</td>\n",
       "      <td>9227</td>\n",
       "      <td>9:29:00</td>\n",
       "    </tr>\n",
       "    <tr>\n",
       "      <th>192175</th>\n",
       "      <td>23296033885</td>\n",
       "      <td>786-4</td>\n",
       "      <td>MEAN CORPUSCULAR HEMOGLOBIN CONCENTRATION</td>\n",
       "      <td>32.799999</td>\n",
       "      <td>g/dL</td>\n",
       "      <td>9227</td>\n",
       "      <td>9:29:00</td>\n",
       "    </tr>\n",
       "  </tbody>\n",
       "</table>\n",
       "<p>157574 rows × 7 columns</p>\n",
       "</div>"
      ],
      "text/plain": [
       "        encounter_id loinc_code                         lab_component_name  \\\n",
       "25287    33598944321     1751-7                                    ALBUMIN   \n",
       "25288    33598944321     4544-3                                 HEMATOCRIT   \n",
       "25290    33598944321    58413-6                               NRBC PERCENT   \n",
       "25292    33598944321      771-6                              NRBC ABSOLUTE   \n",
       "25293    33598944321      777-3                             PLATELET COUNT   \n",
       "...              ...        ...                                        ...   \n",
       "192171   23296033885    71695-1              IMMATURE GRANULOCYTES PERCENT   \n",
       "192172   23296033885    53115-2             IMMATURE GRANULOCYTES ABSOLUTE   \n",
       "192173   23296033885      788-0             RED CELL DISTRIBUTION WIDTH CV   \n",
       "192174   23296033885    21000-5             RED CELL DISTRIBUTION WIDTH SD   \n",
       "192175   23296033885      786-4  MEAN CORPUSCULAR HEMOGLOBIN CONCENTRATION   \n",
       "\n",
       "        lab_result_value lab_result_unit  lab_collection_days_since_birth  \\\n",
       "25287           4.000000            g/dL                            32507   \n",
       "25288          34.200001               %                            32507   \n",
       "25290           0.000000               %                            32507   \n",
       "25292           0.000000          10^9/L                            32507   \n",
       "25293          27.000000          10^9/L                            32507   \n",
       "...                  ...             ...                              ...   \n",
       "192171          0.900000               %                             9227   \n",
       "192172          0.200000          10^9/L                             9227   \n",
       "192173         13.700000               %                             9227   \n",
       "192174         47.200001              fL                             9227   \n",
       "192175         32.799999            g/dL                             9227   \n",
       "\n",
       "       lab_collection_time  \n",
       "25287             14:35:00  \n",
       "25288             14:35:00  \n",
       "25290             14:35:00  \n",
       "25292             14:35:00  \n",
       "25293             14:35:00  \n",
       "...                    ...  \n",
       "192171             9:29:00  \n",
       "192172             9:29:00  \n",
       "192173             9:29:00  \n",
       "192174             9:29:00  \n",
       "192175             9:29:00  \n",
       "\n",
       "[157574 rows x 7 columns]"
      ]
     },
     "execution_count": 3,
     "metadata": {},
     "output_type": "execute_result"
    }
   ],
   "source": [
    "enc = tavr.labs.load_table()\n",
    "enc"
   ]
  },
  {
   "cell_type": "code",
   "execution_count": 4,
   "metadata": {},
   "outputs": [
    {
     "name": "stdout",
     "output_type": "stream",
     "text": [
      "<class 'pandas.core.frame.DataFrame'>\n",
      "Int64Index: 157574 entries, 25287 to 192175\n",
      "Data columns (total 7 columns):\n",
      " #   Column                           Non-Null Count   Dtype   \n",
      "---  ------                           --------------   -----   \n",
      " 0   encounter_id                     157574 non-null  uint64  \n",
      " 1   loinc_code                       157574 non-null  object  \n",
      " 2   lab_component_name               157574 non-null  category\n",
      " 3   lab_result_value                 157574 non-null  float32 \n",
      " 4   lab_result_unit                  157574 non-null  category\n",
      " 5   lab_collection_days_since_birth  157574 non-null  uint64  \n",
      " 6   lab_collection_time              157574 non-null  object  \n",
      "dtypes: category(2), float32(1), object(2), uint64(2)\n",
      "memory usage: 7.1+ MB\n"
     ]
    }
   ],
   "source": [
    "enc.info()"
   ]
  },
  {
   "cell_type": "code",
   "execution_count": 5,
   "metadata": {},
   "outputs": [
    {
     "ename": "NameError",
     "evalue": "name 'np' is not defined",
     "output_type": "error",
     "traceback": [
      "\u001b[0;31m---------------------------------------------------------------------------\u001b[0m",
      "\u001b[0;31mNameError\u001b[0m                                 Traceback (most recent call last)",
      "\u001b[0;32m<ipython-input-5-9022be178557>\u001b[0m in \u001b[0;36m<module>\u001b[0;34m\u001b[0m\n\u001b[1;32m      1\u001b[0m \u001b[0mn\u001b[0m \u001b[0;34m=\u001b[0m \u001b[0;36m2000\u001b[0m\u001b[0;34m\u001b[0m\u001b[0m\n\u001b[0;32m----> 2\u001b[0;31m \u001b[0mx\u001b[0m \u001b[0;34m=\u001b[0m \u001b[0mnp\u001b[0m\u001b[0;34m.\u001b[0m\u001b[0mlinspace\u001b[0m\u001b[0;34m(\u001b[0m\u001b[0;36m0.0\u001b[0m\u001b[0;34m,\u001b[0m\u001b[0;36m10.0\u001b[0m\u001b[0;34m,\u001b[0m\u001b[0mn\u001b[0m\u001b[0;34m)\u001b[0m\u001b[0;34m\u001b[0m\u001b[0m\n\u001b[0m\u001b[1;32m      3\u001b[0m \u001b[0mnp\u001b[0m\u001b[0;34m.\u001b[0m\u001b[0mrandom\u001b[0m\u001b[0;34m.\u001b[0m\u001b[0mseed\u001b[0m\u001b[0;34m(\u001b[0m\u001b[0;36m0\u001b[0m\u001b[0;34m)\u001b[0m\u001b[0;34m\u001b[0m\u001b[0m\n\u001b[1;32m      4\u001b[0m \u001b[0my\u001b[0m \u001b[0;34m=\u001b[0m \u001b[0mnp\u001b[0m\u001b[0;34m.\u001b[0m\u001b[0mcumsum\u001b[0m\u001b[0;34m(\u001b[0m\u001b[0mnp\u001b[0m\u001b[0;34m.\u001b[0m\u001b[0mrandom\u001b[0m\u001b[0;34m.\u001b[0m\u001b[0mrandn\u001b[0m\u001b[0;34m(\u001b[0m\u001b[0mn\u001b[0m\u001b[0;34m)\u001b[0m\u001b[0;34m*\u001b[0m\u001b[0;36m10\u001b[0m\u001b[0;34m)\u001b[0m\u001b[0;34m.\u001b[0m\u001b[0mastype\u001b[0m\u001b[0;34m(\u001b[0m\u001b[0mint\u001b[0m\u001b[0;34m)\u001b[0m\u001b[0;34m\u001b[0m\u001b[0m\n",
      "\u001b[0;31mNameError\u001b[0m: name 'np' is not defined"
     ]
    }
   ],
   "source": [
    "n = 2000\n",
    "x = np.linspace(0.0,10.0,n)\n",
    "np.random.seed(0)\n",
    "y = np.cumsum(np.random.randn(n)*10).astype(int)"
   ]
  },
  {
   "cell_type": "code",
   "execution_count": null,
   "metadata": {},
   "outputs": [],
   "source": [
    "fig_hist = plt.figure( title='Histogram')\n",
    "hist = plt.hist(y,bins=25)\n",
    "fig_hist"
   ]
  },
  {
   "cell_type": "code",
   "execution_count": null,
   "metadata": {},
   "outputs": [],
   "source": [
    "hist.bins = 50"
   ]
  },
  {
   "cell_type": "code",
   "execution_count": null,
   "metadata": {},
   "outputs": [],
   "source": [
    "slider = widgets.IntSlider(min=1,max=100, v_model=30)\n",
    "slider"
   ]
  },
  {
   "cell_type": "code",
   "execution_count": null,
   "metadata": {},
   "outputs": [],
   "source": [
    "slider.value=20;"
   ]
  },
  {
   "cell_type": "code",
   "execution_count": null,
   "metadata": {},
   "outputs": [],
   "source": [
    "widgets.link((hist,'bins'),(slider,'value'));"
   ]
  },
  {
   "cell_type": "code",
   "execution_count": null,
   "metadata": {},
   "outputs": [],
   "source": []
  }
 ],
 "metadata": {
  "kernelspec": {
   "display_name": "Python 3",
   "language": "python",
   "name": "python3"
  },
  "language_info": {
   "codemirror_mode": {
    "name": "ipython",
    "version": 3
   },
   "file_extension": ".py",
   "mimetype": "text/x-python",
   "name": "python",
   "nbconvert_exporter": "python",
   "pygments_lexer": "ipython3",
   "version": "3.6.1"
  }
 },
 "nbformat": 4,
 "nbformat_minor": 4
}
